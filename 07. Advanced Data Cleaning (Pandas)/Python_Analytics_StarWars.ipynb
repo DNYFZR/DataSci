{
 "cells": [
  {
   "cell_type": "markdown",
   "metadata": {
    "collapsed": true
   },
   "source": [
    "---\n",
    "### These Are The Movies You're Looking For\n",
    "---\n",
    "\n",
    "In this project well be analysing data on the Star Wars movies (awesome) from FiveThirtyEight.\n",
    "\n",
    "The data has several columns, including:\n",
    "\n",
    "- RespondentID - An anonymized ID for the respondent (person taking the survey)\n",
    "- Gender - The respondent's gender\n",
    "- Age - The respondent's age\n",
    "- Household Income - The respondent's income\n",
    "- Education - The respondent's education level\n",
    "- Location (Census Region) - The respondent's location\n",
    "- Have you seen any of the 6 films in the Star Wars franchise? - Has a Yes or No response\n",
    "- Do you consider yourself to be a fan of the Star Wars film franchise? - Has a Yes or No response"
   ]
  },
  {
   "cell_type": "code",
   "execution_count": 1,
   "metadata": {
    "collapsed": true
   },
   "outputs": [],
   "source": [
    "import numpy as np, pandas as pd, matplotlib.pyplot as plt, seaborn as sns\n",
    "sns.set()\n",
    "%matplotlib inline"
   ]
  },
  {
   "cell_type": "markdown",
   "metadata": {},
   "source": [
    "#### Import & Inspect The Raw Data\n",
    "---"
   ]
  },
  {
   "cell_type": "code",
   "execution_count": 2,
   "metadata": {
    "collapsed": true
   },
   "outputs": [],
   "source": [
    "star_wars = pd.read_csv(\"star_wars.csv\", encoding=\"ISO-8859-1\")"
   ]
  },
  {
   "cell_type": "code",
   "execution_count": 3,
   "metadata": {
    "collapsed": false
   },
   "outputs": [
    {
     "data": {
      "text/plain": [
       "(1186, 38)"
      ]
     },
     "execution_count": 3,
     "metadata": {},
     "output_type": "execute_result"
    }
   ],
   "source": [
    "star_wars = star_wars[star_wars['RespondentID'].notnull()]\n",
    "star_wars.shape"
   ]
  },
  {
   "cell_type": "code",
   "execution_count": 4,
   "metadata": {
    "collapsed": false
   },
   "outputs": [
    {
     "data": {
      "text/plain": [
       "Index(['RespondentID',\n",
       "       'Have you seen any of the 6 films in the Star Wars franchise?',\n",
       "       'Do you consider yourself to be a fan of the Star Wars film franchise?',\n",
       "       'Which of the following Star Wars films have you seen? Please select all that apply.',\n",
       "       'Unnamed: 4', 'Unnamed: 5', 'Unnamed: 6', 'Unnamed: 7', 'Unnamed: 8',\n",
       "       'Please rank the Star Wars films in order of preference with 1 being your favorite film in the franchise and 6 being your least favorite film.',\n",
       "       'Unnamed: 10', 'Unnamed: 11', 'Unnamed: 12', 'Unnamed: 13',\n",
       "       'Unnamed: 14',\n",
       "       'Please state whether you view the following characters favorably, unfavorably, or are unfamiliar with him/her.',\n",
       "       'Unnamed: 16', 'Unnamed: 17', 'Unnamed: 18', 'Unnamed: 19',\n",
       "       'Unnamed: 20', 'Unnamed: 21', 'Unnamed: 22', 'Unnamed: 23',\n",
       "       'Unnamed: 24', 'Unnamed: 25', 'Unnamed: 26', 'Unnamed: 27',\n",
       "       'Unnamed: 28', 'Which character shot first?',\n",
       "       'Are you familiar with the Expanded Universe?',\n",
       "       'Do you consider yourself to be a fan of the Expanded Universe?ÂÃ¦',\n",
       "       'Do you consider yourself to be a fan of the Star Trek franchise?',\n",
       "       'Gender', 'Age', 'Household Income', 'Education',\n",
       "       'Location (Census Region)'],\n",
       "      dtype='object')"
      ]
     },
     "execution_count": 4,
     "metadata": {},
     "output_type": "execute_result"
    }
   ],
   "source": [
    "star_wars.columns"
   ]
  },
  {
   "cell_type": "code",
   "execution_count": 5,
   "metadata": {
    "collapsed": true
   },
   "outputs": [],
   "source": [
    "cols = {\n",
    "    'RespondentID':'ID',\n",
    "    'Have you seen any of the 6 films in the Star Wars franchise?':'seen_any',\n",
    "    'Do you consider yourself to be a fan of the Star Wars film franchise?':'are_you_a_fan',\n",
    "    'Which of the following Star Wars films have you seen? Please select all that apply.':'seen_ep1',\n",
    "    'Unnamed: 4':'seen_ep2', 'Unnamed: 5':'seen_ep3', 'Unnamed: 6':'seen_ep4', \n",
    "    'Unnamed: 7':'seen_ep5', 'Unnamed: 8':'seen_ep6',\n",
    "    'Please rank the Star Wars films in order of preference with 1 being your favorite film in the franchise and 6 being your least favorite film.': 'rank_1_to_6',\n",
    "    'Please state whether you view the following characters favorably, unfavorably, or are unfamiliar with him/her.':'favourability_characters',\n",
    "    'Which character shot first?':'who_shot_first',\n",
    "    'Are you familiar with the Expanded Universe?':'knowledge_of_expanded_uni',\n",
    "    'Do you consider yourself to be a fan of the Expanded Universe?ÂÃ¦':'fan_of_expanded_uni',\n",
    "    'Do you consider yourself to be a fan of the Star Trek franchise?':'star_trek_fan',\n",
    "    'Location (Census Region)':'location'}\n",
    "\n",
    "unnamed_cols = [\n",
    "    'Unnamed: 10', 'Unnamed: 11', 'Unnamed: 12', 'Unnamed: 13','Unnamed: 14',\n",
    "    'Unnamed: 16', 'Unnamed: 17', 'Unnamed: 18', 'Unnamed: 19','Unnamed: 20', \n",
    "    'Unnamed: 21', 'Unnamed: 22', 'Unnamed: 23', 'Unnamed: 24', 'Unnamed: 25', \n",
    "    'Unnamed: 26', 'Unnamed: 27','Unnamed: 28',\n",
    "]"
   ]
  },
  {
   "cell_type": "code",
   "execution_count": 6,
   "metadata": {
    "collapsed": false
   },
   "outputs": [],
   "source": [
    "star_wars = star_wars.rename(columns = cols)"
   ]
  },
  {
   "cell_type": "markdown",
   "metadata": {},
   "source": [
    "#### Convert Y/N to bool"
   ]
  },
  {
   "cell_type": "code",
   "execution_count": 7,
   "metadata": {
    "collapsed": true
   },
   "outputs": [],
   "source": [
    "yn = {'yes': True, 'no': False,\n",
    "     'Yes': True, 'No': False,}\n",
    "star_wars['seen_any'] = star_wars['seen_any'].map(yn)\n",
    "star_wars['are_you_a_fan'] = star_wars['are_you_a_fan'].map(yn)"
   ]
  },
  {
   "cell_type": "code",
   "execution_count": 8,
   "metadata": {
    "collapsed": false
   },
   "outputs": [
    {
     "name": "stdout",
     "output_type": "stream",
     "text": [
      "True     936\n",
      "False    250\n",
      "Name: seen_any, dtype: int64\n"
     ]
    },
    {
     "data": {
      "text/plain": [
       "True     552\n",
       "False    284\n",
       "Name: are_you_a_fan, dtype: int64"
      ]
     },
     "execution_count": 8,
     "metadata": {},
     "output_type": "execute_result"
    }
   ],
   "source": [
    "print(star_wars['seen_any'].value_counts())\n",
    "star_wars['are_you_a_fan'].value_counts()"
   ]
  },
  {
   "cell_type": "markdown",
   "metadata": {},
   "source": [
    "#### Convert films seen to bools "
   ]
  },
  {
   "cell_type": "code",
   "execution_count": 9,
   "metadata": {
    "collapsed": false
   },
   "outputs": [
    {
     "name": "stdout",
     "output_type": "stream",
     "text": [
      "['Star Wars: Episode I  The Phantom Menace' nan] ['Star Wars: Episode II  Attack of the Clones' nan] ['Star Wars: Episode III  Revenge of the Sith' nan] ['Star Wars: Episode IV  A New Hope' nan] ['Star Wars: Episode V The Empire Strikes Back' nan] ['Star Wars: Episode VI Return of the Jedi' nan] ['3' nan '1' '5' '6' '4' '2']\n"
     ]
    }
   ],
   "source": [
    "print(\n",
    "    star_wars.iloc[:,3].unique(),\n",
    "    star_wars.iloc[:,4].unique(),\n",
    "    star_wars.iloc[:,5].unique(),\n",
    "    star_wars.iloc[:,6].unique(),\n",
    "    star_wars.iloc[:,7].unique(),\n",
    "    star_wars.iloc[:,8].unique(),\n",
    "    star_wars.iloc[:,9].unique()\n",
    ")"
   ]
  },
  {
   "cell_type": "code",
   "execution_count": 10,
   "metadata": {
    "collapsed": false
   },
   "outputs": [
    {
     "name": "stdout",
     "output_type": "stream",
     "text": [
      "True     673\n",
      "False    513\n",
      "Name: seen_ep1, dtype: int64\n",
      "False    615\n",
      "True     571\n",
      "Name: seen_ep2, dtype: int64\n",
      "False    636\n",
      "True     550\n",
      "Name: seen_ep3, dtype: int64\n",
      "True     607\n",
      "False    579\n",
      "Name: seen_ep4, dtype: int64\n",
      "True     758\n",
      "False    428\n",
      "Name: seen_ep5, dtype: int64\n",
      "True     738\n",
      "False    448\n",
      "Name: seen_ep6, dtype: int64\n"
     ]
    }
   ],
   "source": [
    "movie_map = {'Star Wars: Episode I  The Phantom Menace':True, \n",
    "             'Star Wars: Episode II  Attack of the Clones':True,\n",
    "             'Star Wars: Episode III  Revenge of the Sith':True,\n",
    "             'Star Wars: Episode IV  A New Hope':True,\n",
    "             'Star Wars: Episode V The Empire Strikes Back':True,\n",
    "             'Star Wars: Episode VI Return of the Jedi':True,\n",
    "             1:True, 2:True, 3:True, 4:True, 5:True, 6:True,\n",
    "             np.NaN: False}\n",
    "\n",
    "\n",
    "\n",
    "cols = ['seen_ep1', 'seen_ep2', 'seen_ep3', 'seen_ep4', 'seen_ep5', 'seen_ep6']\n",
    "for c in cols:\n",
    "    star_wars[c] = star_wars[c].map(movie_map)\n",
    "    print(star_wars[c].value_counts())"
   ]
  },
  {
   "cell_type": "markdown",
   "metadata": {},
   "source": [
    "#### Rank of Favourites\n",
    "---"
   ]
  },
  {
   "cell_type": "code",
   "execution_count": 13,
   "metadata": {
    "collapsed": false
   },
   "outputs": [],
   "source": [
    "star_wars = star_wars.rename(columns = {\n",
    "    'rank_1_to_6': 'ep1_score',\n",
    "    'Unnamed: 10': 'ep2_score',\n",
    "    'Unnamed: 11': 'ep3_score',\n",
    "    'Unnamed: 12': 'ep4_score',\n",
    "    'Unnamed: 13': 'ep5_score',\n",
    "    'Unnamed: 14': 'ep6_score'})"
   ]
  },
  {
   "cell_type": "code",
   "execution_count": 22,
   "metadata": {
    "collapsed": false
   },
   "outputs": [
    {
     "data": {
      "text/plain": [
       "ep1_score    3.73\n",
       "ep2_score    4.09\n",
       "ep3_score    4.34\n",
       "ep4_score    3.27\n",
       "ep5_score    2.51\n",
       "ep6_score    3.05\n",
       "dtype: float64"
      ]
     },
     "execution_count": 22,
     "metadata": {},
     "output_type": "execute_result"
    }
   ],
   "source": [
    "star_wars[star_wars.columns[9:15]] = star_wars[star_wars.columns[9:15]].astype(float)\n",
    "star_wars[star_wars.columns[9:15]].mean().round(2)"
   ]
  },
  {
   "cell_type": "code",
   "execution_count": 27,
   "metadata": {
    "collapsed": false
   },
   "outputs": [
    {
     "data": {
      "image/png": "[encoded data removed]",
      "text/plain": [
       "<matplotlib.figure.Figure at 0x7f6dbab94400>"
      ]
     },
     "metadata": {},
     "output_type": "display_data"
    }
   ],
   "source": [
    "star_wars[star_wars.columns[9:15]].mean().round(2).plot(kind = 'bar', \n",
    "                                                        title = 'Mean Star Wars Movie Ratings \\n1 = best, 6 = worst');"
   ]
  },
  {
   "cell_type": "markdown",
   "metadata": {},
   "source": [
    "Up to this stage we have:\n",
    "\n",
    "- Imported the data\n",
    "- Cleaned up the column names\n",
    "- Converted the 'seen_any' and 'are_you_a_fan' data to True / False\n",
    "- Converted the Y/N on seen each movie to booleans\n",
    "- Converted the ratings of each movie to numerical data. \n",
    "\n",
    "The only surprise witht the ratings is that A New Hope is rated slightly lower than Return of the Jedi. The prequal trillogy got, as the rating suggests, progressively worse. "
   ]
  },
  {
   "cell_type": "code",
   "execution_count": 30,
   "metadata": {
    "collapsed": false
   },
   "outputs": [
    {
     "data": {
      "text/plain": [
       "seen_ep1    673\n",
       "seen_ep2    571\n",
       "seen_ep3    550\n",
       "seen_ep4    607\n",
       "seen_ep5    758\n",
       "seen_ep6    738\n",
       "dtype: int64"
      ]
     },
     "execution_count": 30,
     "metadata": {},
     "output_type": "execute_result"
    },
    {
     "data": {
      "image/png": "[encoded data removed]",
      "text/plain": [
       "<matplotlib.figure.Figure at 0x7f6dbaa0f438>"
      ]
     },
     "metadata": {},
     "output_type": "display_data"
    }
   ],
   "source": [
    "star_wars[star_wars.columns[3:9]].sum().round(2).plot(kind = 'bar', \n",
    "                                                        title = 'Sum of times seen each Star Wars movie');\n",
    "\n",
    "star_wars[star_wars.columns[3:9]].sum().round(2)"
   ]
  },
  {
   "cell_type": "markdown",
   "metadata": {},
   "source": [
    "More people have seen the higher mean rated movies. Looks like people say Phantom Menace and never bothered with the next two in that trillogy. \n",
    "\n",
    "Not surprised. "
   ]
  },
  {
   "cell_type": "markdown",
   "metadata": {},
   "source": [
    "#### Gender split"
   ]
  },
  {
   "cell_type": "code",
   "execution_count": 32,
   "metadata": {
    "collapsed": false
   },
   "outputs": [
    {
     "name": "stdout",
     "output_type": "stream",
     "text": [
      "(497, 38) (549, 38)\n"
     ]
    }
   ],
   "source": [
    "starman = star_wars[star_wars['Gender'] == 'Male']\n",
    "starwoman = star_wars[star_wars['Gender'] == 'Female']\n",
    "print(starman.shape, starwoman.shape)"
   ]
  },
  {
   "cell_type": "markdown",
   "metadata": {},
   "source": [
    "#### Men"
   ]
  },
  {
   "cell_type": "code",
   "execution_count": 37,
   "metadata": {
    "collapsed": false
   },
   "outputs": [
    {
     "data": {
      "text/plain": [
       "ep1_score    4.04\n",
       "ep2_score    4.22\n",
       "ep3_score    4.27\n",
       "ep4_score    3.00\n",
       "ep5_score    2.46\n",
       "ep6_score    3.00\n",
       "dtype: float64"
      ]
     },
     "execution_count": 37,
     "metadata": {},
     "output_type": "execute_result"
    },
    {
     "data": {
      "image/png": "[encoded data removed]",
      "text/plain": [
       "<matplotlib.figure.Figure at 0x7f6dba925860>"
      ]
     },
     "metadata": {},
     "output_type": "display_data"
    }
   ],
   "source": [
    "starman[starman.columns[9:15]].mean().round(2).plot(kind = 'bar', \n",
    "                                                        title = 'Mean Star Wars Movie Ratings \\n1 = best, 6 = worst');\n",
    "\n",
    "starman[starman.columns[9:15]].mean().round(2)"
   ]
  },
  {
   "cell_type": "code",
   "execution_count": 35,
   "metadata": {
    "collapsed": false
   },
   "outputs": [
    {
     "data": {
      "text/plain": [
       "seen_ep1    361\n",
       "seen_ep2    323\n",
       "seen_ep3    317\n",
       "seen_ep4    342\n",
       "seen_ep5    392\n",
       "seen_ep6    387\n",
       "dtype: int64"
      ]
     },
     "execution_count": 35,
     "metadata": {},
     "output_type": "execute_result"
    },
    {
     "data": {
      "image/png": "[encoded data removed]",
      "text/plain": [
       "<matplotlib.figure.Figure at 0x7f6dba8da278>"
      ]
     },
     "metadata": {},
     "output_type": "display_data"
    }
   ],
   "source": [
    "starman[starman.columns[3:9]].sum().round(2).plot(kind = 'bar', \n",
    "                                                        title = 'Sum of times seen each Star Wars movie');\n",
    "\n",
    "starman[starman.columns[3:9]].sum().round(2)"
   ]
  },
  {
   "cell_type": "markdown",
   "metadata": {},
   "source": [
    "#### Women"
   ]
  },
  {
   "cell_type": "code",
   "execution_count": 40,
   "metadata": {
    "collapsed": false
   },
   "outputs": [
    {
     "data": {
      "text/plain": [
       "ep1_score    3.43\n",
       "ep2_score    3.95\n",
       "ep3_score    4.42\n",
       "ep4_score    3.54\n",
       "ep5_score    2.57\n",
       "ep6_score    3.08\n",
       "dtype: float64"
      ]
     },
     "execution_count": 40,
     "metadata": {},
     "output_type": "execute_result"
    },
    {
     "data": {
      "image/png": "[encoded data removed]",
      "text/plain": [
       "<matplotlib.figure.Figure at 0x7f6dba8960f0>"
      ]
     },
     "metadata": {},
     "output_type": "display_data"
    }
   ],
   "source": [
    "starwoman[starwoman.columns[9:15]].mean().round(2).plot(kind = 'bar', \n",
    "                                                        title = 'Mean Star Wars Movie Ratings \\n1 = best, 6 = worst');\n",
    "\n",
    "starwoman[starwoman.columns[9:15]].mean().round(2)"
   ]
  },
  {
   "cell_type": "code",
   "execution_count": 41,
   "metadata": {
    "collapsed": false
   },
   "outputs": [
    {
     "data": {
      "text/plain": [
       "seen_ep1    298\n",
       "seen_ep2    237\n",
       "seen_ep3    222\n",
       "seen_ep4    255\n",
       "seen_ep5    353\n",
       "seen_ep6    338\n",
       "dtype: int64"
      ]
     },
     "execution_count": 41,
     "metadata": {},
     "output_type": "execute_result"
    },
    {
     "data": {
      "image/png": "[encoded data removed]",
      "text/plain": [
       "<matplotlib.figure.Figure at 0x7f6dbaafd588>"
      ]
     },
     "metadata": {},
     "output_type": "display_data"
    }
   ],
   "source": [
    "starwoman[starwoman.columns[3:9]].sum().round(2).plot(kind = 'bar', \n",
    "                                                        title = 'Sum of times seen each Star Wars movie');\n",
    "\n",
    "starwoman[starwoman.columns[3:9]].sum().round(2)"
   ]
  },
  {
   "cell_type": "markdown",
   "metadata": {},
   "source": [
    "Even although there are more women than men in the data, more men have seen each of the movies. \n",
    "\n",
    "The men rated the origianl trillogy at 3.0, 2.6 and 3.0, men like that trillogy. Conversely they are not so keen on the prequal trillogy with rating getting progressively worse with each from 4.0 to 4.2 to 4.3.\n",
    "\n",
    "The women showed a similar trend in the prequal trillogy, although start off more favourably at a 3.5 rating for Phantom Menace, progressing to a 4.4 for Revenge of the Sith. This may have to do with the scence in Revenge of the Sith where a soon-to-be Darth Vader murders all the young Jedi. The women show a generally favourable view of the original trillogy, with similar ratings to the men. "
   ]
  }
 ],
 "metadata": {
  "kernelspec": {
   "display_name": "Python 3",
   "language": "python",
   "name": "python3"
  },
  "language_info": {
   "codemirror_mode": {
    "name": "ipython",
    "version": 3
   },
   "file_extension": ".py",
   "mimetype": "text/x-python",
   "name": "python",
   "nbconvert_exporter": "python",
   "pygments_lexer": "ipython3",
   "version": "3.4.3"
  }
 },
 "nbformat": 4,
 "nbformat_minor": 0
}
