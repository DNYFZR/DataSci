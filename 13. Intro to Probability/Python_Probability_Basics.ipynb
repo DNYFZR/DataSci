{
 "cells": [
  {
   "cell_type": "markdown",
   "metadata": {},
   "source": [
    "**Project: Mobile App for Lottery Addiction**\n",
    "\n",
    "A medical institute that aims to prevent and treat gambling addictions wants to build a dedicated mobile app to help lottery addicts better estimate their chances of winning. \n",
    "\n",
    "The institute has a team of engineers that will build the app, but they need us to create the logical core of the app and calculate probabilities.\n",
    "\n",
    "For the first version of the app, they want us to focus on the 6/49 lottery and to build functions that enable users to answer questions:\n",
    "\n",
    "- What is the probability of winning the big prize with a single ticket?\n",
    "- What is the probability of winning the big prize if we play 40 different tickets (or any other number)?\n",
    "- What is the probability of having at least five (or four, or three, or two) winning numbers on a single ticket?\n",
    "\n",
    "The institute also wants us to consider historical data coming from the national 6/49 lottery game in Canada. \n",
    "\n",
    "[The dataset](https://www.kaggle.com/datascienceai/lottery-dataset) has data for 3,665 drawings, dating from 1982 to 2018.\n"
   ]
  },
  {
   "cell_type": "code",
   "execution_count": 1,
   "metadata": {
    "collapsed": true
   },
   "outputs": [],
   "source": [
    "# Functions\n",
    "def factorial(n):\n",
    "    final_product = 1\n",
    "    for i in range(n, 0, -1):\n",
    "        final_product *= i\n",
    "    return final_product\n",
    "\n",
    "def combinations(n, k):\n",
    "    numerator = factorial(n)\n",
    "    denominator = factorial(k) * factorial(n-k)\n",
    "    return numerator/denominator\n",
    "\n",
    "def one_ticket_prob(n, k):\n",
    "    res = 1 / combinations(n, k)\n",
    "    print('There is a 1 in {} million chance with once ticket.'.format(round(1 / (1e6 * res), 1) ) )\n",
    "    return res"
   ]
  },
  {
   "cell_type": "markdown",
   "metadata": {
    "collapsed": true
   },
   "source": [
    "** Data Model**"
   ]
  },
  {
   "cell_type": "code",
   "execution_count": 2,
   "metadata": {
    "collapsed": true
   },
   "outputs": [],
   "source": [
    "import pandas as pd"
   ]
  },
  {
   "cell_type": "code",
   "execution_count": 3,
   "metadata": {
    "collapsed": false
   },
   "outputs": [
    {
     "name": "stdout",
     "output_type": "stream",
     "text": [
      "There are 3665 rows and 11 columns.\n"
     ]
    }
   ],
   "source": [
    "df = pd.read_csv('649.csv')\n",
    "print('There are {} rows and {} columns.'.format(df.shape[0], df.shape[1]))"
   ]
  },
  {
   "cell_type": "code",
   "execution_count": 4,
   "metadata": {
    "collapsed": false
   },
   "outputs": [
    {
     "data": {
      "text/html": [
       "<div>\n",
       "<style scoped>\n",
       "    .dataframe tbody tr th:only-of-type {\n",
       "        vertical-align: middle;\n",
       "    }\n",
       "\n",
       "    .dataframe tbody tr th {\n",
       "        vertical-align: top;\n",
       "    }\n",
       "\n",
       "    .dataframe thead th {\n",
       "        text-align: right;\n",
       "    }\n",
       "</style>\n",
       "<table border=\"1\" class=\"dataframe\">\n",
       "  <thead>\n",
       "    <tr style=\"text-align: right;\">\n",
       "      <th></th>\n",
       "      <th>PRODUCT</th>\n",
       "      <th>DRAW NUMBER</th>\n",
       "      <th>SEQUENCE NUMBER</th>\n",
       "      <th>DRAW DATE</th>\n",
       "      <th>NUMBER DRAWN 1</th>\n",
       "      <th>NUMBER DRAWN 2</th>\n",
       "      <th>NUMBER DRAWN 3</th>\n",
       "      <th>NUMBER DRAWN 4</th>\n",
       "      <th>NUMBER DRAWN 5</th>\n",
       "      <th>NUMBER DRAWN 6</th>\n",
       "      <th>BONUS NUMBER</th>\n",
       "    </tr>\n",
       "  </thead>\n",
       "  <tbody>\n",
       "    <tr>\n",
       "      <th>775</th>\n",
       "      <td>649</td>\n",
       "      <td>776</td>\n",
       "      <td>0</td>\n",
       "      <td>6/29/1991</td>\n",
       "      <td>3</td>\n",
       "      <td>5</td>\n",
       "      <td>10</td>\n",
       "      <td>12</td>\n",
       "      <td>13</td>\n",
       "      <td>40</td>\n",
       "      <td>43</td>\n",
       "    </tr>\n",
       "    <tr>\n",
       "      <th>117</th>\n",
       "      <td>649</td>\n",
       "      <td>118</td>\n",
       "      <td>0</td>\n",
       "      <td>9/8/1984</td>\n",
       "      <td>23</td>\n",
       "      <td>25</td>\n",
       "      <td>29</td>\n",
       "      <td>38</td>\n",
       "      <td>39</td>\n",
       "      <td>43</td>\n",
       "      <td>17</td>\n",
       "    </tr>\n",
       "    <tr>\n",
       "      <th>3457</th>\n",
       "      <td>649</td>\n",
       "      <td>3384</td>\n",
       "      <td>0</td>\n",
       "      <td>6/25/2016</td>\n",
       "      <td>4</td>\n",
       "      <td>5</td>\n",
       "      <td>6</td>\n",
       "      <td>8</td>\n",
       "      <td>39</td>\n",
       "      <td>42</td>\n",
       "      <td>30</td>\n",
       "    </tr>\n",
       "    <tr>\n",
       "      <th>2601</th>\n",
       "      <td>649</td>\n",
       "      <td>2602</td>\n",
       "      <td>0</td>\n",
       "      <td>12/27/2008</td>\n",
       "      <td>6</td>\n",
       "      <td>10</td>\n",
       "      <td>20</td>\n",
       "      <td>23</td>\n",
       "      <td>45</td>\n",
       "      <td>47</td>\n",
       "      <td>11</td>\n",
       "    </tr>\n",
       "    <tr>\n",
       "      <th>3324</th>\n",
       "      <td>649</td>\n",
       "      <td>3251</td>\n",
       "      <td>0</td>\n",
       "      <td>3/18/2015</td>\n",
       "      <td>16</td>\n",
       "      <td>17</td>\n",
       "      <td>37</td>\n",
       "      <td>39</td>\n",
       "      <td>41</td>\n",
       "      <td>45</td>\n",
       "      <td>14</td>\n",
       "    </tr>\n",
       "    <tr>\n",
       "      <th>1593</th>\n",
       "      <td>649</td>\n",
       "      <td>1594</td>\n",
       "      <td>0</td>\n",
       "      <td>5/1/1999</td>\n",
       "      <td>6</td>\n",
       "      <td>12</td>\n",
       "      <td>18</td>\n",
       "      <td>20</td>\n",
       "      <td>30</td>\n",
       "      <td>45</td>\n",
       "      <td>40</td>\n",
       "    </tr>\n",
       "    <tr>\n",
       "      <th>598</th>\n",
       "      <td>649</td>\n",
       "      <td>599</td>\n",
       "      <td>0</td>\n",
       "      <td>10/18/1989</td>\n",
       "      <td>1</td>\n",
       "      <td>24</td>\n",
       "      <td>28</td>\n",
       "      <td>40</td>\n",
       "      <td>46</td>\n",
       "      <td>49</td>\n",
       "      <td>39</td>\n",
       "    </tr>\n",
       "    <tr>\n",
       "      <th>3645</th>\n",
       "      <td>649</td>\n",
       "      <td>3572</td>\n",
       "      <td>0</td>\n",
       "      <td>4/14/2018</td>\n",
       "      <td>1</td>\n",
       "      <td>11</td>\n",
       "      <td>19</td>\n",
       "      <td>36</td>\n",
       "      <td>48</td>\n",
       "      <td>49</td>\n",
       "      <td>9</td>\n",
       "    </tr>\n",
       "    <tr>\n",
       "      <th>2652</th>\n",
       "      <td>649</td>\n",
       "      <td>2653</td>\n",
       "      <td>0</td>\n",
       "      <td>6/24/2009</td>\n",
       "      <td>13</td>\n",
       "      <td>19</td>\n",
       "      <td>23</td>\n",
       "      <td>33</td>\n",
       "      <td>38</td>\n",
       "      <td>48</td>\n",
       "      <td>2</td>\n",
       "    </tr>\n",
       "    <tr>\n",
       "      <th>3235</th>\n",
       "      <td>649</td>\n",
       "      <td>3162</td>\n",
       "      <td>0</td>\n",
       "      <td>5/10/2014</td>\n",
       "      <td>16</td>\n",
       "      <td>23</td>\n",
       "      <td>33</td>\n",
       "      <td>36</td>\n",
       "      <td>48</td>\n",
       "      <td>49</td>\n",
       "      <td>37</td>\n",
       "    </tr>\n",
       "  </tbody>\n",
       "</table>\n",
       "</div>"
      ],
      "text/plain": [
       "      PRODUCT  DRAW NUMBER  SEQUENCE NUMBER   DRAW DATE  NUMBER DRAWN 1  \\\n",
       "775       649          776                0   6/29/1991               3   \n",
       "117       649          118                0    9/8/1984              23   \n",
       "3457      649         3384                0   6/25/2016               4   \n",
       "2601      649         2602                0  12/27/2008               6   \n",
       "3324      649         3251                0   3/18/2015              16   \n",
       "1593      649         1594                0    5/1/1999               6   \n",
       "598       649          599                0  10/18/1989               1   \n",
       "3645      649         3572                0   4/14/2018               1   \n",
       "2652      649         2653                0   6/24/2009              13   \n",
       "3235      649         3162                0   5/10/2014              16   \n",
       "\n",
       "      NUMBER DRAWN 2  NUMBER DRAWN 3  NUMBER DRAWN 4  NUMBER DRAWN 5  \\\n",
       "775                5              10              12              13   \n",
       "117               25              29              38              39   \n",
       "3457               5               6               8              39   \n",
       "2601              10              20              23              45   \n",
       "3324              17              37              39              41   \n",
       "1593              12              18              20              30   \n",
       "598               24              28              40              46   \n",
       "3645              11              19              36              48   \n",
       "2652              19              23              33              38   \n",
       "3235              23              33              36              48   \n",
       "\n",
       "      NUMBER DRAWN 6  BONUS NUMBER  \n",
       "775               40            43  \n",
       "117               43            17  \n",
       "3457              42            30  \n",
       "2601              47            11  \n",
       "3324              45            14  \n",
       "1593              45            40  \n",
       "598               49            39  \n",
       "3645              49             9  \n",
       "2652              48             2  \n",
       "3235              49            37  "
      ]
     },
     "execution_count": 4,
     "metadata": {},
     "output_type": "execute_result"
    }
   ],
   "source": [
    "df.sample(10, random_state = 0)"
   ]
  },
  {
   "cell_type": "code",
   "execution_count": 5,
   "metadata": {
    "collapsed": false
   },
   "outputs": [
    {
     "data": {
      "text/plain": [
       "0    {3, 41, 11, 12, 43, 14}\n",
       "1    {33, 36, 37, 39, 8, 41}\n",
       "2     {1, 6, 39, 23, 24, 27}\n",
       "3     {3, 9, 10, 43, 13, 20}\n",
       "4    {34, 5, 14, 47, 21, 31}\n",
       "dtype: object"
      ]
     },
     "execution_count": 5,
     "metadata": {},
     "output_type": "execute_result"
    }
   ],
   "source": [
    "def extract_numbers(row):\n",
    "    return set(row[4:10].values)\n",
    "\n",
    "winners = df.apply(extract_numbers, axis = 1)\n",
    "winners.head()"
   ]
  },
  {
   "cell_type": "code",
   "execution_count": 6,
   "metadata": {
    "collapsed": true
   },
   "outputs": [],
   "source": [
    "def check_historicals(nums, set_series):\n",
    "    '''\n",
    "    This function will check a list of historical winning sets\n",
    "    and output the number of times they occur.\n",
    "    '''\n",
    "    nums = set(nums)\n",
    "    occurs = 0\n",
    "    for s in set_series:\n",
    "        if nums in s:\n",
    "            occurs += 1\n",
    "    \n",
    "    if occurs == 0:\n",
    "        print('These numbers have never come up.')\n",
    "    else:\n",
    "        print('These numbers have come up {} times. This makes no difference to your chance of winning with them.'.format(occurs))\n",
    "    \n",
    "    return occurs"
   ]
  },
  {
   "cell_type": "code",
   "execution_count": 7,
   "metadata": {
    "collapsed": false
   },
   "outputs": [
    {
     "name": "stdout",
     "output_type": "stream",
     "text": [
      "These numbers have never come up.\n"
     ]
    },
    {
     "data": {
      "text/plain": [
       "0"
      ]
     },
     "execution_count": 7,
     "metadata": {},
     "output_type": "execute_result"
    }
   ],
   "source": [
    "check_historicals((8, 37, 22, 12, 1, 3), winners)"
   ]
  },
  {
   "cell_type": "code",
   "execution_count": 8,
   "metadata": {
    "collapsed": true
   },
   "outputs": [],
   "source": [
    "def multi_ticket_prob(n_tickets, n_numbers, n_picked):\n",
    "    comb = combinations(n_numbers, n_picked)\n",
    "    prob = n_tickets / comb\n",
    "    \n",
    "    print_comb = round(comb / (1e3 * n_tickets), 2)\n",
    "    print('There is a 1 in {} thousand chance of winning.'.format(print_comb))\n",
    "    return prob"
   ]
  },
  {
   "cell_type": "code",
   "execution_count": 9,
   "metadata": {
    "collapsed": false
   },
   "outputs": [
    {
     "name": "stdout",
     "output_type": "stream",
     "text": [
      "There is a 1 in 13983.82 thousand chance of winning.\n",
      "There is a 1 in 1398.38 thousand chance of winning.\n",
      "There is a 1 in 139.84 thousand chance of winning.\n",
      "There is a 1 in 1.4 thousand chance of winning.\n",
      "There is a 1 in 0.01 thousand chance of winning.\n",
      "There is a 1 in 0.0 thousand chance of winning.\n",
      "There is a 1 in 0.0 thousand chance of winning.\n"
     ]
    }
   ],
   "source": [
    "test_inputs = [1, 10, 100, 10000, 1000000, 6991908, 13983816]\n",
    "\n",
    "probs = []\n",
    "for tickets in test_inputs:\n",
    "    probs.append(\n",
    "        multi_ticket_prob(tickets, 49, 6)\n",
    "    )"
   ]
  },
  {
   "cell_type": "markdown",
   "metadata": {},
   "source": [
    "AS the number of tickets increases the players chances of winning improve."
   ]
  },
  {
   "cell_type": "code",
   "execution_count": 10,
   "metadata": {
    "collapsed": true
   },
   "outputs": [],
   "source": [
    "def prob_less_6(n_winning):\n",
    "    \n",
    "    n_comb_ticket = combinations(6, n_winning)\n",
    "    n_comb_remaining = combinations(43, 6 - n_winning)\n",
    "    successful = n_comb_ticket * n_comb_remaining\n",
    "    \n",
    "    n_comb_total = combinations(49, 6)    \n",
    "    prob = successful / n_comb_total\n",
    "    \n",
    "    print_comb = round(n_comb_total / successful)\n",
    "    print('There is a 1 in {} chance of winning.'.format(print_comb))\n",
    "    return prob"
   ]
  },
  {
   "cell_type": "code",
   "execution_count": 11,
   "metadata": {
    "collapsed": false
   },
   "outputs": [
    {
     "name": "stdout",
     "output_type": "stream",
     "text": [
      "There is a 1 in 8 chance of winning.\n",
      "There is a 1 in 57 chance of winning.\n",
      "There is a 1 in 1032 chance of winning.\n",
      "There is a 1 in 54201 chance of winning.\n"
     ]
    }
   ],
   "source": [
    "for test_input in [2, 3, 4, 5]:\n",
    "    prob_less_6(test_input)"
   ]
  },
  {
   "cell_type": "markdown",
   "metadata": {},
   "source": [
    "**Next steps **\n",
    "\n",
    "For the first version of the app, we coded four main functions:\n",
    "\n",
    "- one_ticket_prob() — calculates the probability of winning the big prize with a single ticket\n",
    "\n",
    "- check_historicals() — checks whether a certain combination has occurred in the Canada lottery data set\n",
    "\n",
    "- multi_ticket_prob() — calculates the probability for any number of of tickets between 1 and 13,983,816\n",
    "\n",
    "- prob_less_6() — calculates the probability of having two, three, four or five winning numbers exactly\n",
    "\n",
    "\n",
    "Possible features for a second version of the app include:\n",
    "\n",
    "- Making the outputs even easier to understand by adding fun analogies (for example, we can find probabilities for strange events and compare with the chances of winning in lottery; for instance, we can output something along the lines \"You are 100 times more likely to be the victim of a shark attack than winning the lottery\")\n",
    "\n",
    "- Combining the one_ticket_probability() and check_historical_occurrence() to output information on probability and historical occurrence at the same time\n",
    "\n",
    "- Create a function similar to probability_less_6() which calculates the probability of having at least two, three, four or five winning numbers. Hint: the number of successful outcomes for having at least four winning numbers is the sum of these three numbers:\n",
    "\n",
    "    - The number of successful outcomes for having four winning numbers exactly\n",
    "    \n",
    "    - The number of successful outcomes for having five winning numbers exactly\n",
    "    \n",
    "    - The number of successful outcomes for having six winning numbers exactly\n",
    "    "
   ]
  }
 ],
 "metadata": {
  "kernelspec": {
   "display_name": "Python 3",
   "language": "python",
   "name": "python3"
  },
  "language_info": {
   "codemirror_mode": {
    "name": "ipython",
    "version": 3
   },
   "file_extension": ".py",
   "mimetype": "text/x-python",
   "name": "python",
   "nbconvert_exporter": "python",
   "pygments_lexer": "ipython3",
   "version": "3.4.3"
  }
 },
 "nbformat": 4,
 "nbformat_minor": 2
}
