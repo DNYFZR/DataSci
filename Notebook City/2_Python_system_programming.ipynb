{
 "cells": [
  {
   "cell_type": "markdown",
   "metadata": {},
   "source": [
    "---\n",
    "### 2. System Programming with Python\n",
    "---"
   ]
  },
  {
   "cell_type": "code",
   "execution_count": 1,
   "metadata": {},
   "outputs": [
    {
     "name": "stdout",
     "output_type": "stream",
     "text": [
      "c:\\Users\\Daniel\\Documents\\DataSci-101\n",
      "C:\\Users\\Daniel\\AppData\\Local\\Temp\\foobar\n"
     ]
    }
   ],
   "source": [
    "# Operating system interfaces (os)\n",
    "import os\n",
    "\n",
    "# Current working directory\n",
    "\n",
    "# Get the current working directory\n",
    "cwd = os.getcwd()\n",
    "print(cwd)\n",
    "\n",
    "# Set the current working directory\n",
    "os.chdir(cwd)\n",
    "\n",
    "# Temporary directory\n",
    "import tempfile\n",
    "tmpdir = tempfile.gettempdir()\n",
    "\n",
    "# Join paths\n",
    "mytmpdir = os.path.join(tmpdir, \"foobar\")\n",
    "print(mytmpdir)\n",
    "\n",
    "# list containing the names of the entries in the directory given by path.\n",
    "os.listdir(tmpdir)\n",
    "\n",
    "# Create a directory\n",
    "if not os.path.exists(mytmpdir):\n",
    "    os.mkdir(mytmpdir)\n",
    "os.makedirs(os.path.join(tmpdir, \"foobar\", \"plop\", \"toto\"), exist_ok=True)"
   ]
  },
  {
   "cell_type": "code",
   "execution_count": 2,
   "metadata": {},
   "outputs": [
    {
     "name": "stdout",
     "output_type": "stream",
     "text": [
      "C:\\Users\\Daniel\\AppData\\Local\\Temp\\foobar\\myfile.txt\n"
     ]
    }
   ],
   "source": [
    "# File input/output\n",
    "filename = os.path.join(mytmpdir, \"myfile.txt\")\n",
    "print(filename)\n",
    "\n",
    "# Write\n",
    "lines = [\"Dans python tout est bon\", \"Enfin, presque\"]\n",
    "\n",
    "## write line by line\n",
    "fd = open(filename, \"w\")\n",
    "fd.write(lines[0] + \"\\n\")\n",
    "fd.write(lines[1]+ \"\\n\")\n",
    "fd.close()\n",
    "\n",
    "## use a context manager to automatically close your file\n",
    "with open(filename, 'w') as f:\n",
    "    for line in lines:\n",
    "        f.write(line + '\\n')\n",
    "\n",
    "# Read\n",
    "\n",
    "## read one line at a time (entire file does not have to fit into memory)\n",
    "f = open(filename, \"r\")\n",
    "f.readline() # one string per line (including newlines)\n",
    "f.readline() # next line\n",
    "f.close()\n",
    "\n",
    "## read one line at a time (entire file does not have to fit into memory)\n",
    "f = open(filename, 'r')\n",
    "f.readline() # one string per line (including newlines)\n",
    "f.readline() # next line\n",
    "f.close()\n",
    "\n",
    "## read the whole file at once, return a list of lines\n",
    "f = open(filename, 'r')\n",
    "f.readlines() # one list, each line is one string\n",
    "f.close()\n",
    "\n",
    "## use list comprehension to duplicate readlines without reading entire file at once\n",
    "f = open(filename, 'r')\n",
    "[line for line in f]\n",
    "f.close()\n",
    "\n",
    "## use a context manager to automatically close your file\n",
    "with open(filename, 'r') as f:\n",
    "    lines = [line for line in f]"
   ]
  },
  {
   "cell_type": "code",
   "execution_count": 4,
   "metadata": {},
   "outputs": [
    {
     "name": "stdout",
     "output_type": "stream",
     "text": [
      "C:\\Users\\Daniel\\AppData\\Local\\Temp\\foobar ['plop'] ['myfile.txt']\n",
      "C:\\Users\\Daniel\\AppData\\Local\\Temp\\foobar\\plop ['toto'] []\n",
      "C:\\Users\\Daniel\\AppData\\Local\\Temp\\foobar\\plop\\toto [] []\n",
      "['C:\\\\Users\\\\Daniel\\\\AppData\\\\Local\\\\Temp\\\\acrobat_sbx\\\\acroNGLLog.txt', 'C:\\\\Users\\\\Daniel\\\\AppData\\\\Local\\\\Temp\\\\foobar\\\\myfile.txt']\n",
      "['acroNGLLog', 'myfile']\n"
     ]
    }
   ],
   "source": [
    "# Explore, list directories\n",
    "\n",
    "# Walk\n",
    "WD = os.path.join(tmpdir, \"foobar\")\n",
    "for dirpath, dirnames, filenames in os.walk(WD):\n",
    "    print(dirpath, dirnames, filenames)\n",
    "\n",
    "# glob, basename and file extension\n",
    "import tempfile\n",
    "import glob\n",
    "tmpdir = tempfile.gettempdir()\n",
    "filenames = glob.glob(os.path.join(tmpdir, \"*\", \"*.txt\"))\n",
    "print(filenames)\n",
    "\n",
    "# take basename then remove extension\n",
    "basenames = [os.path.splitext(os.path.basename(f))[0] for f in filenames]\n",
    "print(basenames)"
   ]
  },
  {
   "cell_type": "code",
   "execution_count": 6,
   "metadata": {},
   "outputs": [
    {
     "name": "stdout",
     "output_type": "stream",
     "text": [
      "copy C:\\Users\\Daniel\\AppData\\Local\\Temp\\foobar\\myfile.txt to C:\\Users\\Daniel\\AppData\\Local\\Temp\\foobar\\plop\\myfile.txt\n",
      "File C:\\Users\\Daniel\\AppData\\Local\\Temp\\foobar\\plop\\myfile.txt exists ? True\n",
      "copy tree C:\\Users\\Daniel\\AppData\\Local\\Temp\\foobar\\plop under C:\\Users\\Daniel\\AppData\\Local\\Temp\\plop2\n"
     ]
    }
   ],
   "source": [
    "# shutil - High-level file operations\n",
    "import shutil\n",
    "src = os.path.join(tmpdir, \"foobar\", \"myfile.txt\")\n",
    "dst = os.path.join(tmpdir, \"foobar\", \"plop\", \"myfile.txt\")\n",
    "print(\"copy %s to %s\" % (src, dst))\n",
    "\n",
    "shutil.copy(src, dst)\n",
    "print(\"File %s exists ?\" % dst, os.path.exists(dst))\n",
    "\n",
    "src = os.path.join(tmpdir, \"foobar\", \"plop\")\n",
    "dst = os.path.join(tmpdir, \"plop2\")\n",
    "print(\"copy tree %s under %s\" % (src, dst))\n",
    "\n",
    "try:\n",
    "    shutil.copytree(src, dst)\n",
    "    shutil.rmtree(dst)\n",
    "    shutil.move(src, dst)\n",
    "except (FileExistsError, FileNotFoundError) as e:\n",
    "    pass"
   ]
  },
  {
   "cell_type": "code",
   "execution_count": 11,
   "metadata": {},
   "outputs": [
    {
     "name": "stdout",
     "output_type": "stream",
     "text": [
      "Threading ellapsed time  2.0287418365478516\n",
      "[0, 1, 2, 3, 4, 5, 6, 7, 8, 9]\n"
     ]
    }
   ],
   "source": [
    "# Multiprocessing and multithreading\n",
    "\n",
    "'''\n",
    "Process\n",
    "- A process is a name given to a program instance that has been loaded into memory and managed by the operating system.\n",
    "- Process = address space + execution context (thread of control)\n",
    "\n",
    "Threads\n",
    "- Threads share the same address space (Data registers): access to code, heap and (global) data.\n",
    "\n",
    "In Python\n",
    "- The threading module uses threads.\n",
    "- The multiprocessing module uses processes.\n",
    "'''\n",
    "\n",
    "# Multithreading\n",
    "import time\n",
    "import threading\n",
    "\n",
    "def list_append(count, sign=1, out_list=None):\n",
    "    if out_list is None:\n",
    "        out_list = list()\n",
    "    for i in range(count):\n",
    "        out_list.append(sign * i)\n",
    "        sum(out_list) # do some computation\n",
    "    return out_list\n",
    "\n",
    "size = 10000 # Number of numbers to add\n",
    "out_list = list() # result is a simple list\n",
    "thread1 = threading.Thread(target=list_append, args=(size, 1, out_list, ))\n",
    "thread2 = threading.Thread(target=list_append, args=(size, -1, out_list, ))\n",
    "startime = time.time()\n",
    "\n",
    "# Will execute both in parallel\n",
    "thread1.start()\n",
    "thread2.start()\n",
    "\n",
    "# Joins threads back to the parent process\n",
    "thread1.join()\n",
    "thread2.join()\n",
    "print(\"Threading ellapsed time \", time.time() - startime)\n",
    "print(out_list[:10])"
   ]
  },
  {
   "cell_type": "code",
   "execution_count": 12,
   "metadata": {},
   "outputs": [
    {
     "name": "stdout",
     "output_type": "stream",
     "text": [
      "Multiprocessing ellapsed time  0.09081721305847168\n",
      "[0, 1, 2, 3, 4, 5, 6, 7, 8, 9]\n"
     ]
    }
   ],
   "source": [
    "# Multiprocessing\n",
    "import multiprocessing\n",
    "\n",
    "# Sharing requires specific mecanism\n",
    "out_list1 = multiprocessing.Manager().list()\n",
    "p1 = multiprocessing.Process(target=list_append, args=(size, 1, None))\n",
    "out_list2 = multiprocessing.Manager().list()\n",
    "p2 = multiprocessing.Process(target=list_append, args=(size, -1, None))\n",
    "\n",
    "startime = time.time()\n",
    "\n",
    "p1.start()\n",
    "p2.start()\n",
    "p1.join()\n",
    "p2.join()\n",
    "\n",
    "print(\"Multiprocessing ellapsed time \", time.time() - startime)\n",
    "print(out_list[:10]) "
   ]
  },
  {
   "cell_type": "code",
   "execution_count": 14,
   "metadata": {},
   "outputs": [
    {
     "name": "stdout",
     "output_type": "stream",
     "text": [
      "[]\n",
      "Multiprocessing with shared object ellapsed time  0.08770084381103516\n"
     ]
    }
   ],
   "source": [
    "# Managers\n",
    "'''\n",
    "Managers provide a way to create data which can be shared between different processes, including\n",
    "sharing over a network between processes running on different machines. A manager\n",
    "object controls a server process which manages shared objects.\n",
    "'''\n",
    "size = int(size / 100) # Number of numbers to add\n",
    "\n",
    "# Sharing requires specific mecanism\n",
    "out_list = multiprocessing.Manager().list()\n",
    "p1 = multiprocessing.Process(target=list_append, args=(size, 1, out_list))\n",
    "p2 = multiprocessing.Process(target=list_append, args=(size, -1, out_list))\n",
    "\n",
    "startime = time.time()\n",
    "\n",
    "p1.start()\n",
    "p2.start()\n",
    "p1.join()\n",
    "p2.join()\n",
    "\n",
    "print(out_list[:10])\n",
    "print(\"Multiprocessing with shared object ellapsed time \", time.time() - startime)"
   ]
  },
  {
   "cell_type": "code",
   "execution_count": 15,
   "metadata": {},
   "outputs": [
    {
     "name": "stderr",
     "output_type": "stream",
     "text": [
      "usage: ipykernel_launcher.py [-h] [-i INPUT [INPUT ...]] [-o OUTPUT]\n",
      "ipykernel_launcher.py: error: unrecognized arguments: --ip=127.0.0.1 --stdin=9003 --control=9001 --hb=9000 --Session.signature_scheme=\"hmac-sha256\" --Session.key=b\"5649d682-1af8-459c-9e6e-5aedd0fe3c3e\" --shell=9002 --transport=\"tcp\" --iopub=9004 --f=C:\\Users\\Daniel\\AppData\\Local\\Temp\\tmp-11832feQVlC9DlZu2.json\n"
     ]
    },
    {
     "ename": "SystemExit",
     "evalue": "2",
     "output_type": "error",
     "traceback": [
      "An exception has occurred, use %tb to see the full traceback.\n",
      "\u001b[1;31mSystemExit\u001b[0m\u001b[1;31m:\u001b[0m 2\n"
     ]
    },
    {
     "name": "stderr",
     "output_type": "stream",
     "text": [
      "C:\\Users\\Daniel\\AppData\\Roaming\\Python\\Python39\\site-packages\\IPython\\core\\interactiveshell.py:3449: UserWarning: To exit: use 'exit', 'quit', or Ctrl-D.\n",
      "  warn(\"To exit: use 'exit', 'quit', or Ctrl-D.\", stacklevel=1)\n"
     ]
    }
   ],
   "source": [
    "# Scripts and argument parsing\n",
    "import os\n",
    "import os.path\n",
    "import argparse\n",
    "import re\n",
    "import pandas as pd\n",
    "if __name__ == \"__main__\":\n",
    "    # parse command line options\n",
    "    output = \"word_count.csv\"\n",
    "    parser = argparse.ArgumentParser()\n",
    "    parser.add_argument('-i', '--input',\n",
    "        help='list of input files.',\n",
    "        nargs='+', type=str)\n",
    "    parser.add_argument('-o', '--output',\n",
    "        help='output csv file (default %s)' % output,\n",
    "        type=str, default=output)\n",
    "    options = parser.parse_args()\n",
    "    \n",
    "    if options.input is None :\n",
    "        parser.print_help()\n",
    "        raise SystemExit(\"Error: input files are missing\")\n",
    "    else:\n",
    "        filenames = [f for f in options.input if os.path.isfile(f)]\n",
    "    \n",
    "    # Match words\n",
    "    regex = re.compile(\"[a-zA-Z]+\")\n",
    "    \n",
    "    count = dict()\n",
    "    for filename in filenames:\n",
    "        fd = open(filename, \"r\")\n",
    "        for line in fd:\n",
    "            for word in regex.findall(line.lower()):\n",
    "                if not word in count:\n",
    "                    count[word] = 1\n",
    "                else:\n",
    "                    count[word] += 1\n",
    "    fd = open(options.output, \"w\")\n",
    "    \n",
    "    # Pandas\n",
    "    df = pd.DataFrame([[k, count[k]] for k in count], columns=[\"word\", \"count\"])\n",
    "    df.to_csv(options.output, index=False)"
   ]
  },
  {
   "cell_type": "code",
   "execution_count": null,
   "metadata": {},
   "outputs": [],
   "source": []
  },
  {
   "cell_type": "code",
   "execution_count": null,
   "metadata": {},
   "outputs": [],
   "source": []
  },
  {
   "cell_type": "code",
   "execution_count": null,
   "metadata": {},
   "outputs": [],
   "source": []
  },
  {
   "cell_type": "code",
   "execution_count": null,
   "metadata": {},
   "outputs": [],
   "source": []
  },
  {
   "cell_type": "code",
   "execution_count": null,
   "metadata": {},
   "outputs": [],
   "source": []
  }
 ],
 "metadata": {
  "interpreter": {
   "hash": "67ff2b08a60b3c8d3383ece141b44d84ac527aa0fb2b4d51a958291ceaf46288"
  },
  "kernelspec": {
   "display_name": "Python 3.9.5 64-bit",
   "name": "python3"
  },
  "language_info": {
   "codemirror_mode": {
    "name": "ipython",
    "version": 3
   },
   "file_extension": ".py",
   "mimetype": "text/x-python",
   "name": "python",
   "nbconvert_exporter": "python",
   "pygments_lexer": "ipython3",
   "version": "3.9.5"
  },
  "orig_nbformat": 4
 },
 "nbformat": 4,
 "nbformat_minor": 2
}
