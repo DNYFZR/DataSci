{
 "cells": [
  {
   "cell_type": "code",
   "execution_count": 1,
   "metadata": {},
   "outputs": [],
   "source": [
    "import requests, pandas as pd"
   ]
  },
  {
   "cell_type": "code",
   "execution_count": 4,
   "metadata": {},
   "outputs": [
    {
     "name": "stdout",
     "output_type": "stream",
     "text": [
      "Connection: 200\n"
     ]
    }
   ],
   "source": [
    "base_url = r'https://wttr.in/{}?format=j1'\n",
    "location = 'Stirling'\n",
    "\n",
    "req = requests.get(base_url.format(location))\n",
    "print('Connection:', req.status_code)"
   ]
  },
  {
   "cell_type": "code",
   "execution_count": 6,
   "metadata": {},
   "outputs": [
    {
     "data": {
      "text/plain": [
       "dict_keys(['current_condition', 'nearest_area', 'request', 'weather'])"
      ]
     },
     "execution_count": 6,
     "metadata": {},
     "output_type": "execute_result"
    }
   ],
   "source": [
    "req.json().keys()"
   ]
  },
  {
   "cell_type": "code",
   "execution_count": 10,
   "metadata": {},
   "outputs": [
    {
     "data": {
      "text/plain": [
       "[{'FeelsLikeC': '11',\n",
       "  'FeelsLikeF': '52',\n",
       "  'cloudcover': '75',\n",
       "  'humidity': '77',\n",
       "  'localObsDateTime': '2021-10-30 02:05 PM',\n",
       "  'observation_time': '01:05 PM',\n",
       "  'precipInches': '0.0',\n",
       "  'precipMM': '0.1',\n",
       "  'pressure': '988',\n",
       "  'pressureInches': '29',\n",
       "  'temp_C': '12',\n",
       "  'temp_F': '54',\n",
       "  'uvIndex': '3',\n",
       "  'visibility': '10',\n",
       "  'visibilityMiles': '6',\n",
       "  'weatherCode': '116',\n",
       "  'weatherDesc': [{'value': 'Partly cloudy'}],\n",
       "  'weatherIconUrl': [{'value': ''}],\n",
       "  'winddir16Point': 'SW',\n",
       "  'winddirDegree': '220',\n",
       "  'windspeedKmph': '26',\n",
       "  'windspeedMiles': '16'}]"
      ]
     },
     "execution_count": 10,
     "metadata": {},
     "output_type": "execute_result"
    }
   ],
   "source": [
    "req.json()['current_condition']"
   ]
  }
 ],
 "metadata": {
  "interpreter": {
   "hash": "67ff2b08a60b3c8d3383ece141b44d84ac527aa0fb2b4d51a958291ceaf46288"
  },
  "kernelspec": {
   "display_name": "Python 3.9.5 64-bit",
   "name": "python3"
  },
  "language_info": {
   "codemirror_mode": {
    "name": "ipython",
    "version": 3
   },
   "file_extension": ".py",
   "mimetype": "text/x-python",
   "name": "python",
   "nbconvert_exporter": "python",
   "pygments_lexer": "ipython3",
   "version": "3.9.5"
  },
  "orig_nbformat": 4
 },
 "nbformat": 4,
 "nbformat_minor": 2
}
