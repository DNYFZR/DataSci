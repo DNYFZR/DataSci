{
 "cells": [
  {
   "cell_type": "markdown",
   "source": [
    "#### A / B Testing\r\n",
    "\r\n",
    "* Discrete metrics\r\n",
    "    - Fisher's exact test\r\n",
    "    - Pearson's chi-squared test\r\n",
    "\r\n",
    "* Continous metrics\r\n",
    "    - Z-test\r\n",
    "    - Student's t-test\r\n",
    "    - Welch's t-test\r\n",
    "    - Mann-Whitney U test\r\n",
    "\r\n",
    "* Data distrbution VS Stats distribution"
   ],
   "metadata": {}
  },
  {
   "cell_type": "code",
   "execution_count": 11,
   "source": [
    "# Dependencies & set-up\r\n",
    "import numpy as np, pandas as pd, matplotlib.pyplot as plt, seaborn as sns\r\n",
    "from scipy.stats import chi2_contingency, mannwhitneyu, norm, t, ttest_ind\r\n",
    "from scipy.special import binom\r\n",
    "\r\n",
    "sns.set()"
   ],
   "outputs": [],
   "metadata": {}
  },
  {
   "cell_type": "code",
   "execution_count": 12,
   "source": [
    "# Discrete Methods\r\n",
    "#   We randomly show visitors one of two possible designs of an ad\r\n",
    "#   We need to determine whether our data significantly contradict the hypothesis \r\n",
    "#   Hypothosis: the two designs are equivalently efficient.\r\n",
    "\r\n",
    "# Let's say that from we collected the following information.\r\n",
    "\r\n",
    "# n(x) = 30 visitors saw the advertisement A, and 7 of them clicked on it.\r\n",
    "# n(y) = 38 visitors saw the advertisement B, and 15 of them clicked on it.\r\n",
    "\r\n",
    "np.random.seed(42)\r\n",
    "\r\n",
    "x = np.random.binomial(n = 1, p = 0.6, size = 15)\r\n",
    "y = np.random.binomial(n = 1, p = 0.4, size = 19)\r\n",
    "\r\n",
    "\r\n",
    "_, (a, c) = np.unique(x, return_counts = True)\r\n",
    "_, (b, d) = np.unique(y, return_counts = True)\r\n",
    "\r\n",
    "df = pd.DataFrame(data = [[a, b], [c, d]], index = ['click', 'no-click'], columns = ['A', 'B'])\r\n",
    "m = df.values\r\n",
    "\r\n",
    "print('Contingency Table')\r\n",
    "df"
   ],
   "outputs": [
    {
     "output_type": "stream",
     "name": "stdout",
     "text": [
      "Contingency Table\n"
     ]
    },
    {
     "output_type": "execute_result",
     "data": {
      "text/plain": [
       "          A   B\n",
       "click     7  15\n",
       "no-click  8   4"
      ],
      "text/html": [
       "<div>\n",
       "<style scoped>\n",
       "    .dataframe tbody tr th:only-of-type {\n",
       "        vertical-align: middle;\n",
       "    }\n",
       "\n",
       "    .dataframe tbody tr th {\n",
       "        vertical-align: top;\n",
       "    }\n",
       "\n",
       "    .dataframe thead th {\n",
       "        text-align: right;\n",
       "    }\n",
       "</style>\n",
       "<table border=\"1\" class=\"dataframe\">\n",
       "  <thead>\n",
       "    <tr style=\"text-align: right;\">\n",
       "      <th></th>\n",
       "      <th>A</th>\n",
       "      <th>B</th>\n",
       "    </tr>\n",
       "  </thead>\n",
       "  <tbody>\n",
       "    <tr>\n",
       "      <th>click</th>\n",
       "      <td>7</td>\n",
       "      <td>15</td>\n",
       "    </tr>\n",
       "    <tr>\n",
       "      <th>no-click</th>\n",
       "      <td>8</td>\n",
       "      <td>4</td>\n",
       "    </tr>\n",
       "  </tbody>\n",
       "</table>\n",
       "</div>"
      ]
     },
     "metadata": {},
     "execution_count": 12
    }
   ],
   "metadata": {}
  },
  {
   "cell_type": "code",
   "execution_count": 13,
   "source": [
    "# Fisher's exact test \r\n",
    "#  with a 2x2 contingency table we can use Fisher's exact test to compute an exact p-value and test the  hypothesis.\r\n",
    "\r\n",
    "def pmf_hypo(k, K, n, N):\r\n",
    "    # Hypogeometric dist PMF\r\n",
    "    return binom(K, k) * binom(N - K, n - k) / binom(N, n)\r\n",
    "\r\n",
    "def fisher_p(m):\r\n",
    "    # Probability of a given contingency table\r\n",
    "    ((a, b), (c, d)) = m\r\n",
    "    k = a\r\n",
    "    K = a + b\r\n",
    "    n = a + c\r\n",
    "    N = a + b + c + d\r\n",
    "\r\n",
    "    return pmf_hypo(k, K, n, N)\r\n",
    "\r\n",
    "def fisher_hist(m):\r\n",
    "    # PMF hist from Fisher test\r\n",
    "    negative = -min(m[0, 0], m[1, 1])\r\n",
    "    positive = min(m[1, 0], m[1, 0])\r\n",
    "    prob = []\r\n",
    "    for k in range(negative, positive + 1):\r\n",
    "        m1 = m + np.array([[1, -1], [-1, 1]]) * k\r\n",
    "        prob.append(fisher_p(m1))\r\n",
    "    return prob"
   ],
   "outputs": [],
   "metadata": {}
  },
  {
   "cell_type": "code",
   "execution_count": 15,
   "source": [
    "bars_h = np.array(fisher_hist(m))\r\n",
    "idx = bars_h <= fisher_p(m)\r\n",
    "ii = np.arange(len(bars_h))\r\n",
    "pos = min(m[1, 0], m[0, 1])\r\n",
    "neg = -min(m[0, 0], m[1, 1])\r\n",
    "p_val = bars_h[idx].sum()\r\n",
    "\r\n",
    "fig, ax = plt.subplots(figsize = (6, 3))\r\n",
    "ax.bar(ii, bars_h)\r\n",
    "ax.bar(ii[idx], bars_h[idx], color = 'r')\r\n",
    "ax.bar(ii[-neg], bars_h[-neg], color = 'orange')\r\n",
    "\r\n",
    "ax.set_xticks(ii)\r\n",
    "ax.set_xticklabels(np.arange(neg, pos + 1))\r\n",
    "ax.set_ylabel('Probability Density')\r\n",
    "fig.tight_layout()\r\n",
    "\r\n",
    "\r\n",
    "print(f\"- Fisher's test: p-val = {100 * p_val:.1f}%\")"
   ],
   "outputs": [
    {
     "output_type": "stream",
     "name": "stdout",
     "text": [
      "- Fisher's test: p-val = 7.5%\n"
     ]
    },
    {
     "output_type": "display_data",
     "data": {
      "text/plain": [
       "<Figure size 432x216 with 1 Axes>"
      ],
      "image/png": "[encoded data removed]"
     },
     "metadata": {}
    }
   ],
   "metadata": {}
  },
  {
   "cell_type": "code",
   "execution_count": null,
   "source": [],
   "outputs": [],
   "metadata": {}
  },
  {
   "cell_type": "code",
   "execution_count": null,
   "source": [],
   "outputs": [],
   "metadata": {}
  },
  {
   "cell_type": "code",
   "execution_count": null,
   "source": [],
   "outputs": [],
   "metadata": {}
  },
  {
   "cell_type": "code",
   "execution_count": null,
   "source": [],
   "outputs": [],
   "metadata": {}
  },
  {
   "cell_type": "code",
   "execution_count": null,
   "source": [],
   "outputs": [],
   "metadata": {}
  },
  {
   "cell_type": "code",
   "execution_count": null,
   "source": [],
   "outputs": [],
   "metadata": {}
  }
 ],
 "metadata": {
  "orig_nbformat": 4,
  "language_info": {
   "name": "python",
   "version": "3.9.5",
   "mimetype": "text/x-python",
   "codemirror_mode": {
    "name": "ipython",
    "version": 3
   },
   "pygments_lexer": "ipython3",
   "nbconvert_exporter": "python",
   "file_extension": ".py"
  },
  "kernelspec": {
   "name": "python3",
   "display_name": "Python 3.9.5 64-bit"
  },
  "interpreter": {
   "hash": "67ff2b08a60b3c8d3383ece141b44d84ac527aa0fb2b4d51a958291ceaf46288"
  }
 },
 "nbformat": 4,
 "nbformat_minor": 2
}