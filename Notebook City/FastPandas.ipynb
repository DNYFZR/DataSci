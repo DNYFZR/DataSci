{
 "metadata": {
  "language_info": {
   "codemirror_mode": {
    "name": "ipython",
    "version": 3
   },
   "file_extension": ".py",
   "mimetype": "text/x-python",
   "name": "python",
   "nbconvert_exporter": "python",
   "pygments_lexer": "ipython3",
   "version": "3.8.7-final"
  },
  "orig_nbformat": 2,
  "kernelspec": {
   "name": "python37664bitbaseconda65325c341c454a46b762d3c636e01a25",
   "display_name": "Python 3.7.6 64-bit ('base': conda)",
   "language": "python"
  }
 },
 "nbformat": 4,
 "nbformat_minor": 2,
 "cells": [
  {
   "source": [
    "---\n",
    "### Fast Pandas\n",
    "---\n",
    "\n",
    "A quick tour of the pandas multiverse"
   ],
   "cell_type": "markdown",
   "metadata": {}
  },
  {
   "cell_type": "code",
   "execution_count": 2,
   "metadata": {},
   "outputs": [],
   "source": [
    "import numpy as np, pandas as pd "
   ]
  },
  {
   "source": [
    "---\n",
    "#### Object creation\n",
    "---"
   ],
   "cell_type": "markdown",
   "metadata": {}
  },
  {
   "source": [
    "Pandas foundation is the series, created with a list of values"
   ],
   "cell_type": "markdown",
   "metadata": {}
  },
  {
   "cell_type": "code",
   "execution_count": 3,
   "metadata": {},
   "outputs": [
    {
     "output_type": "execute_result",
     "data": {
      "text/plain": [
       "0    1.0\n",
       "1    3.0\n",
       "2    5.0\n",
       "3    7.0\n",
       "4    NaN\n",
       "5    0.1\n",
       "dtype: float64"
      ]
     },
     "metadata": {},
     "execution_count": 3
    }
   ],
   "source": [
    "s = pd.Series([1, 3, 5, 7, np.nan, 0.1])\n",
    "s "
   ]
  },
  {
   "source": [
    "Create a Dataframe by passing an array with a datetime index and labeled columns"
   ],
   "cell_type": "markdown",
   "metadata": {}
  },
  {
   "cell_type": "code",
   "execution_count": 4,
   "metadata": {},
   "outputs": [
    {
     "output_type": "execute_result",
     "data": {
      "text/plain": [
       "                   W         X         Y         Z\n",
       "2020-04-01 -0.673543  0.817844 -0.647671 -0.685011\n",
       "2020-04-02 -1.028921  1.251291 -0.761780 -2.144773\n",
       "2020-04-03 -0.383745  1.228993  0.051092  1.667557\n",
       "2020-04-04  0.706284  2.508205  1.122956  0.047652\n",
       "2020-04-05 -1.029733 -0.111493  1.191038 -0.087079\n",
       "2020-04-06 -1.145060 -1.713272 -1.424586 -0.250127\n",
       "2020-04-07 -0.782393  0.635984 -0.269792 -0.375141\n",
       "2020-04-08 -1.280881 -1.377416 -0.415890 -0.721982"
      ],
      "text/html": "<div>\n<style scoped>\n    .dataframe tbody tr th:only-of-type {\n        vertical-align: middle;\n    }\n\n    .dataframe tbody tr th {\n        vertical-align: top;\n    }\n\n    .dataframe thead th {\n        text-align: right;\n    }\n</style>\n<table border=\"1\" class=\"dataframe\">\n  <thead>\n    <tr style=\"text-align: right;\">\n      <th></th>\n      <th>W</th>\n      <th>X</th>\n      <th>Y</th>\n      <th>Z</th>\n    </tr>\n  </thead>\n  <tbody>\n    <tr>\n      <th>2020-04-01</th>\n      <td>-0.673543</td>\n      <td>0.817844</td>\n      <td>-0.647671</td>\n      <td>-0.685011</td>\n    </tr>\n    <tr>\n      <th>2020-04-02</th>\n      <td>-1.028921</td>\n      <td>1.251291</td>\n      <td>-0.761780</td>\n      <td>-2.144773</td>\n    </tr>\n    <tr>\n      <th>2020-04-03</th>\n      <td>-0.383745</td>\n      <td>1.228993</td>\n      <td>0.051092</td>\n      <td>1.667557</td>\n    </tr>\n    <tr>\n      <th>2020-04-04</th>\n      <td>0.706284</td>\n      <td>2.508205</td>\n      <td>1.122956</td>\n      <td>0.047652</td>\n    </tr>\n    <tr>\n      <th>2020-04-05</th>\n      <td>-1.029733</td>\n      <td>-0.111493</td>\n      <td>1.191038</td>\n      <td>-0.087079</td>\n    </tr>\n    <tr>\n      <th>2020-04-06</th>\n      <td>-1.145060</td>\n      <td>-1.713272</td>\n      <td>-1.424586</td>\n      <td>-0.250127</td>\n    </tr>\n    <tr>\n      <th>2020-04-07</th>\n      <td>-0.782393</td>\n      <td>0.635984</td>\n      <td>-0.269792</td>\n      <td>-0.375141</td>\n    </tr>\n    <tr>\n      <th>2020-04-08</th>\n      <td>-1.280881</td>\n      <td>-1.377416</td>\n      <td>-0.415890</td>\n      <td>-0.721982</td>\n    </tr>\n  </tbody>\n</table>\n</div>"
     },
     "metadata": {},
     "execution_count": 4
    }
   ],
   "source": [
    "rows = 8\n",
    "cols = 4\n",
    "\n",
    "dates = pd.date_range('20200401', periods = rows)\n",
    "\n",
    "df = pd.DataFrame(np.random.randn(rows, cols), index = dates, columns = list('WXYZ'))\n",
    "df"
   ]
  },
  {
   "source": [
    "Creating a Dataframe by passing a dict of differnet types "
   ],
   "cell_type": "markdown",
   "metadata": {}
  },
  {
   "cell_type": "code",
   "execution_count": 5,
   "metadata": {},
   "outputs": [
    {
     "output_type": "execute_result",
     "data": {
      "text/plain": [
       "Aa           float64\n",
       "Bb    datetime64[ns]\n",
       "Cc           float32\n",
       "Dd             int32\n",
       "Ee          category\n",
       "Ff            object\n",
       "dtype: object"
      ]
     },
     "metadata": {},
     "execution_count": 5
    }
   ],
   "source": [
    "df2 = pd.DataFrame(\n",
    "    {\n",
    "        \"Aa\": 1 / np.sqrt(3),\n",
    "        \"Bb\": pd.Timestamp(\"20200101\"),\n",
    "        \"Cc\": pd.Series(3, index = list(range(4)), dtype = \"float32\"),\n",
    "        \"Dd\": np.array([8] * 4, dtype = \"int32\"),\n",
    "        \"Ee\": pd.Categorical([\"test\", \"train\", \"eval\", \"train\"]),\n",
    "        \"Ff\": \"foofigthers\",\n",
    "    }\n",
    ")\n",
    "\n",
    "df2.dtypes"
   ]
  },
  {
   "source": [
    "---\n",
    "#### Viewing Data\n",
    "---"
   ],
   "cell_type": "markdown",
   "metadata": {}
  },
  {
   "source": [
    "Top and bottom n rows, index and column heads"
   ],
   "cell_type": "markdown",
   "metadata": {}
  },
  {
   "cell_type": "code",
   "execution_count": 6,
   "metadata": {},
   "outputs": [
    {
     "output_type": "execute_result",
     "data": {
      "text/plain": [
       "                   W         X         Y         Z\n",
       "2020-04-01 -0.673543  0.817844 -0.647671 -0.685011\n",
       "2020-04-02 -1.028921  1.251291 -0.761780 -2.144773\n",
       "2020-04-03 -0.383745  1.228993  0.051092  1.667557"
      ],
      "text/html": "<div>\n<style scoped>\n    .dataframe tbody tr th:only-of-type {\n        vertical-align: middle;\n    }\n\n    .dataframe tbody tr th {\n        vertical-align: top;\n    }\n\n    .dataframe thead th {\n        text-align: right;\n    }\n</style>\n<table border=\"1\" class=\"dataframe\">\n  <thead>\n    <tr style=\"text-align: right;\">\n      <th></th>\n      <th>W</th>\n      <th>X</th>\n      <th>Y</th>\n      <th>Z</th>\n    </tr>\n  </thead>\n  <tbody>\n    <tr>\n      <th>2020-04-01</th>\n      <td>-0.673543</td>\n      <td>0.817844</td>\n      <td>-0.647671</td>\n      <td>-0.685011</td>\n    </tr>\n    <tr>\n      <th>2020-04-02</th>\n      <td>-1.028921</td>\n      <td>1.251291</td>\n      <td>-0.761780</td>\n      <td>-2.144773</td>\n    </tr>\n    <tr>\n      <th>2020-04-03</th>\n      <td>-0.383745</td>\n      <td>1.228993</td>\n      <td>0.051092</td>\n      <td>1.667557</td>\n    </tr>\n  </tbody>\n</table>\n</div>"
     },
     "metadata": {},
     "execution_count": 6
    }
   ],
   "source": [
    "df.head(3)"
   ]
  },
  {
   "cell_type": "code",
   "execution_count": 7,
   "metadata": {},
   "outputs": [
    {
     "output_type": "execute_result",
     "data": {
      "text/plain": [
       "                   W         X         Y         Z\n",
       "2020-04-06 -1.145060 -1.713272 -1.424586 -0.250127\n",
       "2020-04-07 -0.782393  0.635984 -0.269792 -0.375141\n",
       "2020-04-08 -1.280881 -1.377416 -0.415890 -0.721982"
      ],
      "text/html": "<div>\n<style scoped>\n    .dataframe tbody tr th:only-of-type {\n        vertical-align: middle;\n    }\n\n    .dataframe tbody tr th {\n        vertical-align: top;\n    }\n\n    .dataframe thead th {\n        text-align: right;\n    }\n</style>\n<table border=\"1\" class=\"dataframe\">\n  <thead>\n    <tr style=\"text-align: right;\">\n      <th></th>\n      <th>W</th>\n      <th>X</th>\n      <th>Y</th>\n      <th>Z</th>\n    </tr>\n  </thead>\n  <tbody>\n    <tr>\n      <th>2020-04-06</th>\n      <td>-1.145060</td>\n      <td>-1.713272</td>\n      <td>-1.424586</td>\n      <td>-0.250127</td>\n    </tr>\n    <tr>\n      <th>2020-04-07</th>\n      <td>-0.782393</td>\n      <td>0.635984</td>\n      <td>-0.269792</td>\n      <td>-0.375141</td>\n    </tr>\n    <tr>\n      <th>2020-04-08</th>\n      <td>-1.280881</td>\n      <td>-1.377416</td>\n      <td>-0.415890</td>\n      <td>-0.721982</td>\n    </tr>\n  </tbody>\n</table>\n</div>"
     },
     "metadata": {},
     "execution_count": 7
    }
   ],
   "source": [
    "df.tail(3)"
   ]
  },
  {
   "cell_type": "code",
   "execution_count": 8,
   "metadata": {},
   "outputs": [
    {
     "output_type": "execute_result",
     "data": {
      "text/plain": [
       "DatetimeIndex(['2020-04-01', '2020-04-02', '2020-04-03', '2020-04-04',\n",
       "               '2020-04-05', '2020-04-06', '2020-04-07', '2020-04-08'],\n",
       "              dtype='datetime64[ns]', freq='D')"
      ]
     },
     "metadata": {},
     "execution_count": 8
    }
   ],
   "source": [
    "df.index"
   ]
  },
  {
   "cell_type": "code",
   "execution_count": 9,
   "metadata": {},
   "outputs": [
    {
     "output_type": "execute_result",
     "data": {
      "text/plain": [
       "Index(['W', 'X', 'Y', 'Z'], dtype='object')"
      ]
     },
     "metadata": {},
     "execution_count": 9
    }
   ],
   "source": [
    "df.columns"
   ]
  },
  {
   "source": [
    "You can use to_numpy() if your data is all of the same type"
   ],
   "cell_type": "markdown",
   "metadata": {}
  },
  {
   "cell_type": "code",
   "execution_count": 10,
   "metadata": {},
   "outputs": [
    {
     "output_type": "execute_result",
     "data": {
      "text/plain": [
       "array([[-0.67354286,  0.81784398, -0.64767051, -0.68501105],\n",
       "       [-1.02892135,  1.25129135, -0.7617799 , -2.14477325],\n",
       "       [-0.38374493,  1.22899275,  0.05109194,  1.66755651],\n",
       "       [ 0.70628351,  2.50820513,  1.12295605,  0.04765234],\n",
       "       [-1.02973291, -0.11149286,  1.19103792, -0.08707934],\n",
       "       [-1.14506043, -1.71327246, -1.42458556, -0.25012727],\n",
       "       [-0.78239302,  0.63598384, -0.2697925 , -0.37514145],\n",
       "       [-1.28088139, -1.37741605, -0.41589005, -0.72198151]])"
      ]
     },
     "metadata": {},
     "execution_count": 10
    }
   ],
   "source": [
    "df.to_numpy()"
   ]
  },
  {
   "source": [
    "Quick statistical analysis"
   ],
   "cell_type": "markdown",
   "metadata": {}
  },
  {
   "cell_type": "code",
   "execution_count": 11,
   "metadata": {},
   "outputs": [
    {
     "output_type": "execute_result",
     "data": {
      "text/plain": [
       "              W         X         Y         Z\n",
       "count  8.000000  8.000000  8.000000  8.000000\n",
       "mean  -0.702249  0.405017 -0.144329 -0.318613\n",
       "std    0.636678  1.412864  0.909517  1.053723\n",
       "min   -1.280881 -1.713272 -1.424586 -2.144773\n",
       "25%   -1.058565 -0.427974 -0.676198 -0.694254\n",
       "50%   -0.905657  0.726914 -0.342841 -0.312634\n",
       "75%   -0.601093  1.234567  0.319058 -0.053396\n",
       "max    0.706284  2.508205  1.191038  1.667557"
      ],
      "text/html": "<div>\n<style scoped>\n    .dataframe tbody tr th:only-of-type {\n        vertical-align: middle;\n    }\n\n    .dataframe tbody tr th {\n        vertical-align: top;\n    }\n\n    .dataframe thead th {\n        text-align: right;\n    }\n</style>\n<table border=\"1\" class=\"dataframe\">\n  <thead>\n    <tr style=\"text-align: right;\">\n      <th></th>\n      <th>W</th>\n      <th>X</th>\n      <th>Y</th>\n      <th>Z</th>\n    </tr>\n  </thead>\n  <tbody>\n    <tr>\n      <th>count</th>\n      <td>8.000000</td>\n      <td>8.000000</td>\n      <td>8.000000</td>\n      <td>8.000000</td>\n    </tr>\n    <tr>\n      <th>mean</th>\n      <td>-0.702249</td>\n      <td>0.405017</td>\n      <td>-0.144329</td>\n      <td>-0.318613</td>\n    </tr>\n    <tr>\n      <th>std</th>\n      <td>0.636678</td>\n      <td>1.412864</td>\n      <td>0.909517</td>\n      <td>1.053723</td>\n    </tr>\n    <tr>\n      <th>min</th>\n      <td>-1.280881</td>\n      <td>-1.713272</td>\n      <td>-1.424586</td>\n      <td>-2.144773</td>\n    </tr>\n    <tr>\n      <th>25%</th>\n      <td>-1.058565</td>\n      <td>-0.427974</td>\n      <td>-0.676198</td>\n      <td>-0.694254</td>\n    </tr>\n    <tr>\n      <th>50%</th>\n      <td>-0.905657</td>\n      <td>0.726914</td>\n      <td>-0.342841</td>\n      <td>-0.312634</td>\n    </tr>\n    <tr>\n      <th>75%</th>\n      <td>-0.601093</td>\n      <td>1.234567</td>\n      <td>0.319058</td>\n      <td>-0.053396</td>\n    </tr>\n    <tr>\n      <th>max</th>\n      <td>0.706284</td>\n      <td>2.508205</td>\n      <td>1.191038</td>\n      <td>1.667557</td>\n    </tr>\n  </tbody>\n</table>\n</div>"
     },
     "metadata": {},
     "execution_count": 11
    }
   ],
   "source": [
    "df.describe()"
   ]
  },
  {
   "source": [
    "Transposing data"
   ],
   "cell_type": "markdown",
   "metadata": {}
  },
  {
   "cell_type": "code",
   "execution_count": 12,
   "metadata": {},
   "outputs": [
    {
     "output_type": "execute_result",
     "data": {
      "text/plain": [
       "   2020-04-01  2020-04-02  2020-04-03  2020-04-04  2020-04-05  2020-04-06  \\\n",
       "W   -0.673543   -1.028921   -0.383745    0.706284   -1.029733   -1.145060   \n",
       "X    0.817844    1.251291    1.228993    2.508205   -0.111493   -1.713272   \n",
       "Y   -0.647671   -0.761780    0.051092    1.122956    1.191038   -1.424586   \n",
       "Z   -0.685011   -2.144773    1.667557    0.047652   -0.087079   -0.250127   \n",
       "\n",
       "   2020-04-07  2020-04-08  \n",
       "W   -0.782393   -1.280881  \n",
       "X    0.635984   -1.377416  \n",
       "Y   -0.269792   -0.415890  \n",
       "Z   -0.375141   -0.721982  "
      ],
      "text/html": "<div>\n<style scoped>\n    .dataframe tbody tr th:only-of-type {\n        vertical-align: middle;\n    }\n\n    .dataframe tbody tr th {\n        vertical-align: top;\n    }\n\n    .dataframe thead th {\n        text-align: right;\n    }\n</style>\n<table border=\"1\" class=\"dataframe\">\n  <thead>\n    <tr style=\"text-align: right;\">\n      <th></th>\n      <th>2020-04-01</th>\n      <th>2020-04-02</th>\n      <th>2020-04-03</th>\n      <th>2020-04-04</th>\n      <th>2020-04-05</th>\n      <th>2020-04-06</th>\n      <th>2020-04-07</th>\n      <th>2020-04-08</th>\n    </tr>\n  </thead>\n  <tbody>\n    <tr>\n      <th>W</th>\n      <td>-0.673543</td>\n      <td>-1.028921</td>\n      <td>-0.383745</td>\n      <td>0.706284</td>\n      <td>-1.029733</td>\n      <td>-1.145060</td>\n      <td>-0.782393</td>\n      <td>-1.280881</td>\n    </tr>\n    <tr>\n      <th>X</th>\n      <td>0.817844</td>\n      <td>1.251291</td>\n      <td>1.228993</td>\n      <td>2.508205</td>\n      <td>-0.111493</td>\n      <td>-1.713272</td>\n      <td>0.635984</td>\n      <td>-1.377416</td>\n    </tr>\n    <tr>\n      <th>Y</th>\n      <td>-0.647671</td>\n      <td>-0.761780</td>\n      <td>0.051092</td>\n      <td>1.122956</td>\n      <td>1.191038</td>\n      <td>-1.424586</td>\n      <td>-0.269792</td>\n      <td>-0.415890</td>\n    </tr>\n    <tr>\n      <th>Z</th>\n      <td>-0.685011</td>\n      <td>-2.144773</td>\n      <td>1.667557</td>\n      <td>0.047652</td>\n      <td>-0.087079</td>\n      <td>-0.250127</td>\n      <td>-0.375141</td>\n      <td>-0.721982</td>\n    </tr>\n  </tbody>\n</table>\n</div>"
     },
     "metadata": {},
     "execution_count": 12
    }
   ],
   "source": [
    "df.T"
   ]
  },
  {
   "source": [
    "Sorting by axis"
   ],
   "cell_type": "markdown",
   "metadata": {}
  },
  {
   "cell_type": "code",
   "execution_count": 13,
   "metadata": {},
   "outputs": [
    {
     "output_type": "execute_result",
     "data": {
      "text/plain": [
       "                   Z         Y         X         W\n",
       "2020-04-01 -0.685011 -0.647671  0.817844 -0.673543\n",
       "2020-04-02 -2.144773 -0.761780  1.251291 -1.028921\n",
       "2020-04-03  1.667557  0.051092  1.228993 -0.383745\n",
       "2020-04-04  0.047652  1.122956  2.508205  0.706284\n",
       "2020-04-05 -0.087079  1.191038 -0.111493 -1.029733\n",
       "2020-04-06 -0.250127 -1.424586 -1.713272 -1.145060\n",
       "2020-04-07 -0.375141 -0.269792  0.635984 -0.782393\n",
       "2020-04-08 -0.721982 -0.415890 -1.377416 -1.280881"
      ],
      "text/html": "<div>\n<style scoped>\n    .dataframe tbody tr th:only-of-type {\n        vertical-align: middle;\n    }\n\n    .dataframe tbody tr th {\n        vertical-align: top;\n    }\n\n    .dataframe thead th {\n        text-align: right;\n    }\n</style>\n<table border=\"1\" class=\"dataframe\">\n  <thead>\n    <tr style=\"text-align: right;\">\n      <th></th>\n      <th>Z</th>\n      <th>Y</th>\n      <th>X</th>\n      <th>W</th>\n    </tr>\n  </thead>\n  <tbody>\n    <tr>\n      <th>2020-04-01</th>\n      <td>-0.685011</td>\n      <td>-0.647671</td>\n      <td>0.817844</td>\n      <td>-0.673543</td>\n    </tr>\n    <tr>\n      <th>2020-04-02</th>\n      <td>-2.144773</td>\n      <td>-0.761780</td>\n      <td>1.251291</td>\n      <td>-1.028921</td>\n    </tr>\n    <tr>\n      <th>2020-04-03</th>\n      <td>1.667557</td>\n      <td>0.051092</td>\n      <td>1.228993</td>\n      <td>-0.383745</td>\n    </tr>\n    <tr>\n      <th>2020-04-04</th>\n      <td>0.047652</td>\n      <td>1.122956</td>\n      <td>2.508205</td>\n      <td>0.706284</td>\n    </tr>\n    <tr>\n      <th>2020-04-05</th>\n      <td>-0.087079</td>\n      <td>1.191038</td>\n      <td>-0.111493</td>\n      <td>-1.029733</td>\n    </tr>\n    <tr>\n      <th>2020-04-06</th>\n      <td>-0.250127</td>\n      <td>-1.424586</td>\n      <td>-1.713272</td>\n      <td>-1.145060</td>\n    </tr>\n    <tr>\n      <th>2020-04-07</th>\n      <td>-0.375141</td>\n      <td>-0.269792</td>\n      <td>0.635984</td>\n      <td>-0.782393</td>\n    </tr>\n    <tr>\n      <th>2020-04-08</th>\n      <td>-0.721982</td>\n      <td>-0.415890</td>\n      <td>-1.377416</td>\n      <td>-1.280881</td>\n    </tr>\n  </tbody>\n</table>\n</div>"
     },
     "metadata": {},
     "execution_count": 13
    }
   ],
   "source": [
    "df.sort_index(axis = 1, ascending = False)"
   ]
  },
  {
   "source": [
    "Sorting by values"
   ],
   "cell_type": "markdown",
   "metadata": {}
  },
  {
   "cell_type": "code",
   "execution_count": 14,
   "metadata": {},
   "outputs": [
    {
     "output_type": "execute_result",
     "data": {
      "text/plain": [
       "                   W         X         Y         Z\n",
       "2020-04-06 -1.145060 -1.713272 -1.424586 -0.250127\n",
       "2020-04-08 -1.280881 -1.377416 -0.415890 -0.721982\n",
       "2020-04-05 -1.029733 -0.111493  1.191038 -0.087079\n",
       "2020-04-07 -0.782393  0.635984 -0.269792 -0.375141\n",
       "2020-04-01 -0.673543  0.817844 -0.647671 -0.685011\n",
       "2020-04-03 -0.383745  1.228993  0.051092  1.667557\n",
       "2020-04-02 -1.028921  1.251291 -0.761780 -2.144773\n",
       "2020-04-04  0.706284  2.508205  1.122956  0.047652"
      ],
      "text/html": "<div>\n<style scoped>\n    .dataframe tbody tr th:only-of-type {\n        vertical-align: middle;\n    }\n\n    .dataframe tbody tr th {\n        vertical-align: top;\n    }\n\n    .dataframe thead th {\n        text-align: right;\n    }\n</style>\n<table border=\"1\" class=\"dataframe\">\n  <thead>\n    <tr style=\"text-align: right;\">\n      <th></th>\n      <th>W</th>\n      <th>X</th>\n      <th>Y</th>\n      <th>Z</th>\n    </tr>\n  </thead>\n  <tbody>\n    <tr>\n      <th>2020-04-06</th>\n      <td>-1.145060</td>\n      <td>-1.713272</td>\n      <td>-1.424586</td>\n      <td>-0.250127</td>\n    </tr>\n    <tr>\n      <th>2020-04-08</th>\n      <td>-1.280881</td>\n      <td>-1.377416</td>\n      <td>-0.415890</td>\n      <td>-0.721982</td>\n    </tr>\n    <tr>\n      <th>2020-04-05</th>\n      <td>-1.029733</td>\n      <td>-0.111493</td>\n      <td>1.191038</td>\n      <td>-0.087079</td>\n    </tr>\n    <tr>\n      <th>2020-04-07</th>\n      <td>-0.782393</td>\n      <td>0.635984</td>\n      <td>-0.269792</td>\n      <td>-0.375141</td>\n    </tr>\n    <tr>\n      <th>2020-04-01</th>\n      <td>-0.673543</td>\n      <td>0.817844</td>\n      <td>-0.647671</td>\n      <td>-0.685011</td>\n    </tr>\n    <tr>\n      <th>2020-04-03</th>\n      <td>-0.383745</td>\n      <td>1.228993</td>\n      <td>0.051092</td>\n      <td>1.667557</td>\n    </tr>\n    <tr>\n      <th>2020-04-02</th>\n      <td>-1.028921</td>\n      <td>1.251291</td>\n      <td>-0.761780</td>\n      <td>-2.144773</td>\n    </tr>\n    <tr>\n      <th>2020-04-04</th>\n      <td>0.706284</td>\n      <td>2.508205</td>\n      <td>1.122956</td>\n      <td>0.047652</td>\n    </tr>\n  </tbody>\n</table>\n</div>"
     },
     "metadata": {},
     "execution_count": 14
    }
   ],
   "source": [
    "df.sort_values(by = 'X')"
   ]
  },
  {
   "source": [
    "---\n",
    "#### Selection\n",
    "---\n",
    "\n",
    "A single columns becomes a series"
   ],
   "cell_type": "markdown",
   "metadata": {}
  },
  {
   "cell_type": "code",
   "execution_count": 15,
   "metadata": {},
   "outputs": [
    {
     "output_type": "execute_result",
     "data": {
      "text/plain": [
       "2020-04-01   -0.673543\n",
       "2020-04-02   -1.028921\n",
       "2020-04-03   -0.383745\n",
       "2020-04-04    0.706284\n",
       "2020-04-05   -1.029733\n",
       "2020-04-06   -1.145060\n",
       "2020-04-07   -0.782393\n",
       "2020-04-08   -1.280881\n",
       "Freq: D, Name: W, dtype: float64"
      ]
     },
     "metadata": {},
     "execution_count": 15
    }
   ],
   "source": [
    "df['W']"
   ]
  },
  {
   "source": [
    "Using [] to slice rows"
   ],
   "cell_type": "markdown",
   "metadata": {}
  },
  {
   "cell_type": "code",
   "execution_count": 16,
   "metadata": {},
   "outputs": [
    {
     "output_type": "execute_result",
     "data": {
      "text/plain": [
       "                   W         X         Y         Z\n",
       "2020-04-01 -0.673543  0.817844 -0.647671 -0.685011\n",
       "2020-04-02 -1.028921  1.251291 -0.761780 -2.144773\n",
       "2020-04-03 -0.383745  1.228993  0.051092  1.667557"
      ],
      "text/html": "<div>\n<style scoped>\n    .dataframe tbody tr th:only-of-type {\n        vertical-align: middle;\n    }\n\n    .dataframe tbody tr th {\n        vertical-align: top;\n    }\n\n    .dataframe thead th {\n        text-align: right;\n    }\n</style>\n<table border=\"1\" class=\"dataframe\">\n  <thead>\n    <tr style=\"text-align: right;\">\n      <th></th>\n      <th>W</th>\n      <th>X</th>\n      <th>Y</th>\n      <th>Z</th>\n    </tr>\n  </thead>\n  <tbody>\n    <tr>\n      <th>2020-04-01</th>\n      <td>-0.673543</td>\n      <td>0.817844</td>\n      <td>-0.647671</td>\n      <td>-0.685011</td>\n    </tr>\n    <tr>\n      <th>2020-04-02</th>\n      <td>-1.028921</td>\n      <td>1.251291</td>\n      <td>-0.761780</td>\n      <td>-2.144773</td>\n    </tr>\n    <tr>\n      <th>2020-04-03</th>\n      <td>-0.383745</td>\n      <td>1.228993</td>\n      <td>0.051092</td>\n      <td>1.667557</td>\n    </tr>\n  </tbody>\n</table>\n</div>"
     },
     "metadata": {},
     "execution_count": 16
    }
   ],
   "source": [
    "df[0:3]"
   ]
  },
  {
   "cell_type": "code",
   "execution_count": 17,
   "metadata": {},
   "outputs": [
    {
     "output_type": "execute_result",
     "data": {
      "text/plain": [
       "                   W         X         Y         Z\n",
       "2020-04-01 -0.673543  0.817844 -0.647671 -0.685011\n",
       "2020-04-02 -1.028921  1.251291 -0.761780 -2.144773\n",
       "2020-04-03 -0.383745  1.228993  0.051092  1.667557\n",
       "2020-04-04  0.706284  2.508205  1.122956  0.047652"
      ],
      "text/html": "<div>\n<style scoped>\n    .dataframe tbody tr th:only-of-type {\n        vertical-align: middle;\n    }\n\n    .dataframe tbody tr th {\n        vertical-align: top;\n    }\n\n    .dataframe thead th {\n        text-align: right;\n    }\n</style>\n<table border=\"1\" class=\"dataframe\">\n  <thead>\n    <tr style=\"text-align: right;\">\n      <th></th>\n      <th>W</th>\n      <th>X</th>\n      <th>Y</th>\n      <th>Z</th>\n    </tr>\n  </thead>\n  <tbody>\n    <tr>\n      <th>2020-04-01</th>\n      <td>-0.673543</td>\n      <td>0.817844</td>\n      <td>-0.647671</td>\n      <td>-0.685011</td>\n    </tr>\n    <tr>\n      <th>2020-04-02</th>\n      <td>-1.028921</td>\n      <td>1.251291</td>\n      <td>-0.761780</td>\n      <td>-2.144773</td>\n    </tr>\n    <tr>\n      <th>2020-04-03</th>\n      <td>-0.383745</td>\n      <td>1.228993</td>\n      <td>0.051092</td>\n      <td>1.667557</td>\n    </tr>\n    <tr>\n      <th>2020-04-04</th>\n      <td>0.706284</td>\n      <td>2.508205</td>\n      <td>1.122956</td>\n      <td>0.047652</td>\n    </tr>\n  </tbody>\n</table>\n</div>"
     },
     "metadata": {},
     "execution_count": 17
    }
   ],
   "source": [
    "df['20200401':'20200404']"
   ]
  },
  {
   "source": [
    "Selection by label\n",
    "\n",
    "for getting a cross section using a label"
   ],
   "cell_type": "markdown",
   "metadata": {}
  },
  {
   "cell_type": "code",
   "execution_count": 18,
   "metadata": {},
   "outputs": [
    {
     "output_type": "execute_result",
     "data": {
      "text/plain": [
       "W   -0.673543\n",
       "X    0.817844\n",
       "Y   -0.647671\n",
       "Z   -0.685011\n",
       "Name: 2020-04-01 00:00:00, dtype: float64"
      ]
     },
     "metadata": {},
     "execution_count": 18
    }
   ],
   "source": [
    "df.loc[dates[0]]"
   ]
  },
  {
   "source": [
    "Selecting on a multi axis basis"
   ],
   "cell_type": "markdown",
   "metadata": {}
  },
  {
   "cell_type": "code",
   "execution_count": 19,
   "metadata": {},
   "outputs": [
    {
     "output_type": "execute_result",
     "data": {
      "text/plain": [
       "                   X         Y\n",
       "2020-04-01  0.817844 -0.647671\n",
       "2020-04-02  1.251291 -0.761780\n",
       "2020-04-03  1.228993  0.051092\n",
       "2020-04-04  2.508205  1.122956\n",
       "2020-04-05 -0.111493  1.191038\n",
       "2020-04-06 -1.713272 -1.424586\n",
       "2020-04-07  0.635984 -0.269792\n",
       "2020-04-08 -1.377416 -0.415890"
      ],
      "text/html": "<div>\n<style scoped>\n    .dataframe tbody tr th:only-of-type {\n        vertical-align: middle;\n    }\n\n    .dataframe tbody tr th {\n        vertical-align: top;\n    }\n\n    .dataframe thead th {\n        text-align: right;\n    }\n</style>\n<table border=\"1\" class=\"dataframe\">\n  <thead>\n    <tr style=\"text-align: right;\">\n      <th></th>\n      <th>X</th>\n      <th>Y</th>\n    </tr>\n  </thead>\n  <tbody>\n    <tr>\n      <th>2020-04-01</th>\n      <td>0.817844</td>\n      <td>-0.647671</td>\n    </tr>\n    <tr>\n      <th>2020-04-02</th>\n      <td>1.251291</td>\n      <td>-0.761780</td>\n    </tr>\n    <tr>\n      <th>2020-04-03</th>\n      <td>1.228993</td>\n      <td>0.051092</td>\n    </tr>\n    <tr>\n      <th>2020-04-04</th>\n      <td>2.508205</td>\n      <td>1.122956</td>\n    </tr>\n    <tr>\n      <th>2020-04-05</th>\n      <td>-0.111493</td>\n      <td>1.191038</td>\n    </tr>\n    <tr>\n      <th>2020-04-06</th>\n      <td>-1.713272</td>\n      <td>-1.424586</td>\n    </tr>\n    <tr>\n      <th>2020-04-07</th>\n      <td>0.635984</td>\n      <td>-0.269792</td>\n    </tr>\n    <tr>\n      <th>2020-04-08</th>\n      <td>-1.377416</td>\n      <td>-0.415890</td>\n    </tr>\n  </tbody>\n</table>\n</div>"
     },
     "metadata": {},
     "execution_count": 19
    }
   ],
   "source": [
    "df.loc[:, ['X', 'Y']]"
   ]
  },
  {
   "source": [
    "Showing label slicing, both endpoints can be included"
   ],
   "cell_type": "markdown",
   "metadata": {}
  },
  {
   "cell_type": "code",
   "execution_count": 20,
   "metadata": {},
   "outputs": [
    {
     "output_type": "execute_result",
     "data": {
      "text/plain": [
       "                   X         Z\n",
       "2020-04-01  0.817844 -0.685011\n",
       "2020-04-02  1.251291 -2.144773\n",
       "2020-04-03  1.228993  1.667557\n",
       "2020-04-04  2.508205  0.047652"
      ],
      "text/html": "<div>\n<style scoped>\n    .dataframe tbody tr th:only-of-type {\n        vertical-align: middle;\n    }\n\n    .dataframe tbody tr th {\n        vertical-align: top;\n    }\n\n    .dataframe thead th {\n        text-align: right;\n    }\n</style>\n<table border=\"1\" class=\"dataframe\">\n  <thead>\n    <tr style=\"text-align: right;\">\n      <th></th>\n      <th>X</th>\n      <th>Z</th>\n    </tr>\n  </thead>\n  <tbody>\n    <tr>\n      <th>2020-04-01</th>\n      <td>0.817844</td>\n      <td>-0.685011</td>\n    </tr>\n    <tr>\n      <th>2020-04-02</th>\n      <td>1.251291</td>\n      <td>-2.144773</td>\n    </tr>\n    <tr>\n      <th>2020-04-03</th>\n      <td>1.228993</td>\n      <td>1.667557</td>\n    </tr>\n    <tr>\n      <th>2020-04-04</th>\n      <td>2.508205</td>\n      <td>0.047652</td>\n    </tr>\n  </tbody>\n</table>\n</div>"
     },
     "metadata": {},
     "execution_count": 20
    }
   ],
   "source": [
    "df.loc[dates[0:4], ['X', 'Z']]"
   ]
  },
  {
   "cell_type": "code",
   "execution_count": 21,
   "metadata": {},
   "outputs": [
    {
     "output_type": "execute_result",
     "data": {
      "text/plain": [
       "-0.685"
      ]
     },
     "metadata": {},
     "execution_count": 21
    }
   ],
   "source": [
    "df.loc[dates[0], 'Z'].round(3)"
   ]
  },
  {
   "source": [
    "---\n",
    "### Selection by position\n",
    "---\n",
    "\n",
    "Select via passed int positions"
   ],
   "cell_type": "markdown",
   "metadata": {}
  },
  {
   "cell_type": "code",
   "execution_count": 22,
   "metadata": {},
   "outputs": [
    {
     "output_type": "execute_result",
     "data": {
      "text/plain": [
       "W    0.706284\n",
       "X    2.508205\n",
       "Y    1.122956\n",
       "Z    0.047652\n",
       "Name: 2020-04-04 00:00:00, dtype: float64"
      ]
     },
     "metadata": {},
     "execution_count": 22
    }
   ],
   "source": [
    "df.iloc[3]"
   ]
  },
  {
   "source": [
    "By int slices similar to numpy /  Python"
   ],
   "cell_type": "markdown",
   "metadata": {}
  },
  {
   "cell_type": "code",
   "execution_count": 23,
   "metadata": {},
   "outputs": [
    {
     "output_type": "execute_result",
     "data": {
      "text/plain": [
       "                   W         X\n",
       "2020-04-04  0.706284  2.508205\n",
       "2020-04-05 -1.029733 -0.111493"
      ],
      "text/html": "<div>\n<style scoped>\n    .dataframe tbody tr th:only-of-type {\n        vertical-align: middle;\n    }\n\n    .dataframe tbody tr th {\n        vertical-align: top;\n    }\n\n    .dataframe thead th {\n        text-align: right;\n    }\n</style>\n<table border=\"1\" class=\"dataframe\">\n  <thead>\n    <tr style=\"text-align: right;\">\n      <th></th>\n      <th>W</th>\n      <th>X</th>\n    </tr>\n  </thead>\n  <tbody>\n    <tr>\n      <th>2020-04-04</th>\n      <td>0.706284</td>\n      <td>2.508205</td>\n    </tr>\n    <tr>\n      <th>2020-04-05</th>\n      <td>-1.029733</td>\n      <td>-0.111493</td>\n    </tr>\n  </tbody>\n</table>\n</div>"
     },
     "metadata": {},
     "execution_count": 23
    }
   ],
   "source": [
    "df.iloc[3:5, 0:2]"
   ]
  },
  {
   "source": [
    "By lists of int positions"
   ],
   "cell_type": "markdown",
   "metadata": {}
  },
  {
   "cell_type": "code",
   "execution_count": 24,
   "metadata": {},
   "outputs": [
    {
     "output_type": "execute_result",
     "data": {
      "text/plain": [
       "                   W         Y\n",
       "2020-04-02 -1.028921 -0.761780\n",
       "2020-04-03 -0.383745  0.051092\n",
       "2020-04-05 -1.029733  1.191038"
      ],
      "text/html": "<div>\n<style scoped>\n    .dataframe tbody tr th:only-of-type {\n        vertical-align: middle;\n    }\n\n    .dataframe tbody tr th {\n        vertical-align: top;\n    }\n\n    .dataframe thead th {\n        text-align: right;\n    }\n</style>\n<table border=\"1\" class=\"dataframe\">\n  <thead>\n    <tr style=\"text-align: right;\">\n      <th></th>\n      <th>W</th>\n      <th>Y</th>\n    </tr>\n  </thead>\n  <tbody>\n    <tr>\n      <th>2020-04-02</th>\n      <td>-1.028921</td>\n      <td>-0.761780</td>\n    </tr>\n    <tr>\n      <th>2020-04-03</th>\n      <td>-0.383745</td>\n      <td>0.051092</td>\n    </tr>\n    <tr>\n      <th>2020-04-05</th>\n      <td>-1.029733</td>\n      <td>1.191038</td>\n    </tr>\n  </tbody>\n</table>\n</div>"
     },
     "metadata": {},
     "execution_count": 24
    }
   ],
   "source": [
    "df.iloc[[1,2,4],[0,2]]"
   ]
  },
  {
   "source": [
    "For slicing rows or columns and getting specific values"
   ],
   "cell_type": "markdown",
   "metadata": {}
  },
  {
   "cell_type": "code",
   "execution_count": 25,
   "metadata": {},
   "outputs": [
    {
     "output_type": "execute_result",
     "data": {
      "text/plain": [
       "                   W         X         Y         Z\n",
       "2020-04-02 -1.028921  1.251291 -0.761780 -2.144773\n",
       "2020-04-03 -0.383745  1.228993  0.051092  1.667557\n",
       "2020-04-04  0.706284  2.508205  1.122956  0.047652"
      ],
      "text/html": "<div>\n<style scoped>\n    .dataframe tbody tr th:only-of-type {\n        vertical-align: middle;\n    }\n\n    .dataframe tbody tr th {\n        vertical-align: top;\n    }\n\n    .dataframe thead th {\n        text-align: right;\n    }\n</style>\n<table border=\"1\" class=\"dataframe\">\n  <thead>\n    <tr style=\"text-align: right;\">\n      <th></th>\n      <th>W</th>\n      <th>X</th>\n      <th>Y</th>\n      <th>Z</th>\n    </tr>\n  </thead>\n  <tbody>\n    <tr>\n      <th>2020-04-02</th>\n      <td>-1.028921</td>\n      <td>1.251291</td>\n      <td>-0.761780</td>\n      <td>-2.144773</td>\n    </tr>\n    <tr>\n      <th>2020-04-03</th>\n      <td>-0.383745</td>\n      <td>1.228993</td>\n      <td>0.051092</td>\n      <td>1.667557</td>\n    </tr>\n    <tr>\n      <th>2020-04-04</th>\n      <td>0.706284</td>\n      <td>2.508205</td>\n      <td>1.122956</td>\n      <td>0.047652</td>\n    </tr>\n  </tbody>\n</table>\n</div>"
     },
     "metadata": {},
     "execution_count": 25
    }
   ],
   "source": [
    "df.iloc[1:4,:]"
   ]
  },
  {
   "cell_type": "code",
   "execution_count": 26,
   "metadata": {},
   "outputs": [
    {
     "output_type": "execute_result",
     "data": {
      "text/plain": [
       "                   X         Y\n",
       "2020-04-01  0.817844 -0.647671\n",
       "2020-04-02  1.251291 -0.761780\n",
       "2020-04-03  1.228993  0.051092\n",
       "2020-04-04  2.508205  1.122956\n",
       "2020-04-05 -0.111493  1.191038\n",
       "2020-04-06 -1.713272 -1.424586\n",
       "2020-04-07  0.635984 -0.269792\n",
       "2020-04-08 -1.377416 -0.415890"
      ],
      "text/html": "<div>\n<style scoped>\n    .dataframe tbody tr th:only-of-type {\n        vertical-align: middle;\n    }\n\n    .dataframe tbody tr th {\n        vertical-align: top;\n    }\n\n    .dataframe thead th {\n        text-align: right;\n    }\n</style>\n<table border=\"1\" class=\"dataframe\">\n  <thead>\n    <tr style=\"text-align: right;\">\n      <th></th>\n      <th>X</th>\n      <th>Y</th>\n    </tr>\n  </thead>\n  <tbody>\n    <tr>\n      <th>2020-04-01</th>\n      <td>0.817844</td>\n      <td>-0.647671</td>\n    </tr>\n    <tr>\n      <th>2020-04-02</th>\n      <td>1.251291</td>\n      <td>-0.761780</td>\n    </tr>\n    <tr>\n      <th>2020-04-03</th>\n      <td>1.228993</td>\n      <td>0.051092</td>\n    </tr>\n    <tr>\n      <th>2020-04-04</th>\n      <td>2.508205</td>\n      <td>1.122956</td>\n    </tr>\n    <tr>\n      <th>2020-04-05</th>\n      <td>-0.111493</td>\n      <td>1.191038</td>\n    </tr>\n    <tr>\n      <th>2020-04-06</th>\n      <td>-1.713272</td>\n      <td>-1.424586</td>\n    </tr>\n    <tr>\n      <th>2020-04-07</th>\n      <td>0.635984</td>\n      <td>-0.269792</td>\n    </tr>\n    <tr>\n      <th>2020-04-08</th>\n      <td>-1.377416</td>\n      <td>-0.415890</td>\n    </tr>\n  </tbody>\n</table>\n</div>"
     },
     "metadata": {},
     "execution_count": 26
    }
   ],
   "source": [
    "df.iloc[:, 1:3]"
   ]
  },
  {
   "cell_type": "code",
   "execution_count": 27,
   "metadata": {},
   "outputs": [
    {
     "output_type": "execute_result",
     "data": {
      "text/plain": [
       "0.04765234122360332"
      ]
     },
     "metadata": {},
     "execution_count": 27
    }
   ],
   "source": [
    "df.iloc[3,3]"
   ]
  },
  {
   "source": [
    "---\n",
    "#### Boolean Indexing\n",
    "---\n",
    "\n",
    "Use single columns values to select data or conditions on the dataframe as a whole"
   ],
   "cell_type": "markdown",
   "metadata": {}
  },
  {
   "cell_type": "code",
   "execution_count": 28,
   "metadata": {},
   "outputs": [
    {
     "output_type": "execute_result",
     "data": {
      "text/plain": [
       "                   W         X         Y         Z\n",
       "2020-04-04  0.706284  2.508205  1.122956  0.047652"
      ],
      "text/html": "<div>\n<style scoped>\n    .dataframe tbody tr th:only-of-type {\n        vertical-align: middle;\n    }\n\n    .dataframe tbody tr th {\n        vertical-align: top;\n    }\n\n    .dataframe thead th {\n        text-align: right;\n    }\n</style>\n<table border=\"1\" class=\"dataframe\">\n  <thead>\n    <tr style=\"text-align: right;\">\n      <th></th>\n      <th>W</th>\n      <th>X</th>\n      <th>Y</th>\n      <th>Z</th>\n    </tr>\n  </thead>\n  <tbody>\n    <tr>\n      <th>2020-04-04</th>\n      <td>0.706284</td>\n      <td>2.508205</td>\n      <td>1.122956</td>\n      <td>0.047652</td>\n    </tr>\n  </tbody>\n</table>\n</div>"
     },
     "metadata": {},
     "execution_count": 28
    }
   ],
   "source": [
    "df[df['W'] > 0]"
   ]
  },
  {
   "cell_type": "code",
   "execution_count": 29,
   "metadata": {},
   "outputs": [
    {
     "output_type": "execute_result",
     "data": {
      "text/plain": [
       "                   W         X         Y         Z\n",
       "2020-04-01       NaN  0.817844       NaN       NaN\n",
       "2020-04-02       NaN  1.251291       NaN       NaN\n",
       "2020-04-03       NaN  1.228993  0.051092  1.667557\n",
       "2020-04-04  0.706284  2.508205  1.122956  0.047652\n",
       "2020-04-05       NaN       NaN  1.191038       NaN\n",
       "2020-04-06       NaN       NaN       NaN       NaN\n",
       "2020-04-07       NaN  0.635984       NaN       NaN\n",
       "2020-04-08       NaN       NaN       NaN       NaN"
      ],
      "text/html": "<div>\n<style scoped>\n    .dataframe tbody tr th:only-of-type {\n        vertical-align: middle;\n    }\n\n    .dataframe tbody tr th {\n        vertical-align: top;\n    }\n\n    .dataframe thead th {\n        text-align: right;\n    }\n</style>\n<table border=\"1\" class=\"dataframe\">\n  <thead>\n    <tr style=\"text-align: right;\">\n      <th></th>\n      <th>W</th>\n      <th>X</th>\n      <th>Y</th>\n      <th>Z</th>\n    </tr>\n  </thead>\n  <tbody>\n    <tr>\n      <th>2020-04-01</th>\n      <td>NaN</td>\n      <td>0.817844</td>\n      <td>NaN</td>\n      <td>NaN</td>\n    </tr>\n    <tr>\n      <th>2020-04-02</th>\n      <td>NaN</td>\n      <td>1.251291</td>\n      <td>NaN</td>\n      <td>NaN</td>\n    </tr>\n    <tr>\n      <th>2020-04-03</th>\n      <td>NaN</td>\n      <td>1.228993</td>\n      <td>0.051092</td>\n      <td>1.667557</td>\n    </tr>\n    <tr>\n      <th>2020-04-04</th>\n      <td>0.706284</td>\n      <td>2.508205</td>\n      <td>1.122956</td>\n      <td>0.047652</td>\n    </tr>\n    <tr>\n      <th>2020-04-05</th>\n      <td>NaN</td>\n      <td>NaN</td>\n      <td>1.191038</td>\n      <td>NaN</td>\n    </tr>\n    <tr>\n      <th>2020-04-06</th>\n      <td>NaN</td>\n      <td>NaN</td>\n      <td>NaN</td>\n      <td>NaN</td>\n    </tr>\n    <tr>\n      <th>2020-04-07</th>\n      <td>NaN</td>\n      <td>0.635984</td>\n      <td>NaN</td>\n      <td>NaN</td>\n    </tr>\n    <tr>\n      <th>2020-04-08</th>\n      <td>NaN</td>\n      <td>NaN</td>\n      <td>NaN</td>\n      <td>NaN</td>\n    </tr>\n  </tbody>\n</table>\n</div>"
     },
     "metadata": {},
     "execution_count": 29
    }
   ],
   "source": [
    "df[df >0]"
   ]
  },
  {
   "source": [
    "Using the isin() method"
   ],
   "cell_type": "markdown",
   "metadata": {}
  },
  {
   "cell_type": "code",
   "execution_count": 30,
   "metadata": {},
   "outputs": [
    {
     "output_type": "execute_result",
     "data": {
      "text/plain": [
       "                   W         X         Y         Z      E\n",
       "2020-04-01 -0.673543  0.817844 -0.647671 -0.685011    one\n",
       "2020-04-02 -1.028921  1.251291 -0.761780 -2.144773    one\n",
       "2020-04-03 -0.383745  1.228993  0.051092  1.667557    two\n",
       "2020-04-04  0.706284  2.508205  1.122956  0.047652  three\n",
       "2020-04-05 -1.029733 -0.111493  1.191038 -0.087079  eight\n",
       "2020-04-06 -1.145060 -1.713272 -1.424586 -0.250127   five\n",
       "2020-04-07 -0.782393  0.635984 -0.269792 -0.375141    six\n",
       "2020-04-08 -1.280881 -1.377416 -0.415890 -0.721982   four"
      ],
      "text/html": "<div>\n<style scoped>\n    .dataframe tbody tr th:only-of-type {\n        vertical-align: middle;\n    }\n\n    .dataframe tbody tr th {\n        vertical-align: top;\n    }\n\n    .dataframe thead th {\n        text-align: right;\n    }\n</style>\n<table border=\"1\" class=\"dataframe\">\n  <thead>\n    <tr style=\"text-align: right;\">\n      <th></th>\n      <th>W</th>\n      <th>X</th>\n      <th>Y</th>\n      <th>Z</th>\n      <th>E</th>\n    </tr>\n  </thead>\n  <tbody>\n    <tr>\n      <th>2020-04-01</th>\n      <td>-0.673543</td>\n      <td>0.817844</td>\n      <td>-0.647671</td>\n      <td>-0.685011</td>\n      <td>one</td>\n    </tr>\n    <tr>\n      <th>2020-04-02</th>\n      <td>-1.028921</td>\n      <td>1.251291</td>\n      <td>-0.761780</td>\n      <td>-2.144773</td>\n      <td>one</td>\n    </tr>\n    <tr>\n      <th>2020-04-03</th>\n      <td>-0.383745</td>\n      <td>1.228993</td>\n      <td>0.051092</td>\n      <td>1.667557</td>\n      <td>two</td>\n    </tr>\n    <tr>\n      <th>2020-04-04</th>\n      <td>0.706284</td>\n      <td>2.508205</td>\n      <td>1.122956</td>\n      <td>0.047652</td>\n      <td>three</td>\n    </tr>\n    <tr>\n      <th>2020-04-05</th>\n      <td>-1.029733</td>\n      <td>-0.111493</td>\n      <td>1.191038</td>\n      <td>-0.087079</td>\n      <td>eight</td>\n    </tr>\n    <tr>\n      <th>2020-04-06</th>\n      <td>-1.145060</td>\n      <td>-1.713272</td>\n      <td>-1.424586</td>\n      <td>-0.250127</td>\n      <td>five</td>\n    </tr>\n    <tr>\n      <th>2020-04-07</th>\n      <td>-0.782393</td>\n      <td>0.635984</td>\n      <td>-0.269792</td>\n      <td>-0.375141</td>\n      <td>six</td>\n    </tr>\n    <tr>\n      <th>2020-04-08</th>\n      <td>-1.280881</td>\n      <td>-1.377416</td>\n      <td>-0.415890</td>\n      <td>-0.721982</td>\n      <td>four</td>\n    </tr>\n  </tbody>\n</table>\n</div>"
     },
     "metadata": {},
     "execution_count": 30
    }
   ],
   "source": [
    "df2 = df.copy()\n",
    "df2['E'] = ['one', 'one', 'two','three','eight','five','six','four']\n",
    "df2"
   ]
  },
  {
   "cell_type": "code",
   "execution_count": 31,
   "metadata": {},
   "outputs": [
    {
     "output_type": "execute_result",
     "data": {
      "text/plain": [
       "                   W         X         Y         Z      E\n",
       "2020-04-01 -0.673543  0.817844 -0.647671 -0.685011    one\n",
       "2020-04-02 -1.028921  1.251291 -0.761780 -2.144773    one\n",
       "2020-04-05 -1.029733 -0.111493  1.191038 -0.087079  eight"
      ],
      "text/html": "<div>\n<style scoped>\n    .dataframe tbody tr th:only-of-type {\n        vertical-align: middle;\n    }\n\n    .dataframe tbody tr th {\n        vertical-align: top;\n    }\n\n    .dataframe thead th {\n        text-align: right;\n    }\n</style>\n<table border=\"1\" class=\"dataframe\">\n  <thead>\n    <tr style=\"text-align: right;\">\n      <th></th>\n      <th>W</th>\n      <th>X</th>\n      <th>Y</th>\n      <th>Z</th>\n      <th>E</th>\n    </tr>\n  </thead>\n  <tbody>\n    <tr>\n      <th>2020-04-01</th>\n      <td>-0.673543</td>\n      <td>0.817844</td>\n      <td>-0.647671</td>\n      <td>-0.685011</td>\n      <td>one</td>\n    </tr>\n    <tr>\n      <th>2020-04-02</th>\n      <td>-1.028921</td>\n      <td>1.251291</td>\n      <td>-0.761780</td>\n      <td>-2.144773</td>\n      <td>one</td>\n    </tr>\n    <tr>\n      <th>2020-04-05</th>\n      <td>-1.029733</td>\n      <td>-0.111493</td>\n      <td>1.191038</td>\n      <td>-0.087079</td>\n      <td>eight</td>\n    </tr>\n  </tbody>\n</table>\n</div>"
     },
     "metadata": {},
     "execution_count": 31
    }
   ],
   "source": [
    "df2[df2['E'].isin(['eight', 'one'])]"
   ]
  },
  {
   "source": [
    "---\n",
    "#### Setting\n",
    "---\n",
    "\n",
    "Setting a new column auto aligns to the index"
   ],
   "cell_type": "markdown",
   "metadata": {}
  },
  {
   "cell_type": "code",
   "execution_count": 32,
   "metadata": {},
   "outputs": [
    {
     "output_type": "execute_result",
     "data": {
      "text/plain": [
       "2020-04-01    1\n",
       "2020-04-02    2\n",
       "2020-04-03    3\n",
       "2020-04-04    4\n",
       "2020-04-05    5\n",
       "2020-04-06    6\n",
       "2020-04-07    7\n",
       "2020-04-08    8\n",
       "Freq: D, dtype: int64"
      ]
     },
     "metadata": {},
     "execution_count": 32
    }
   ],
   "source": [
    "s1 = pd.Series([1,2,3,4,5,6,7,8], index = dates)\n",
    "s1\n"
   ]
  },
  {
   "source": [
    "Setting value by label, by position, by assigning a numpy array"
   ],
   "cell_type": "markdown",
   "metadata": {}
  },
  {
   "cell_type": "code",
   "execution_count": 33,
   "metadata": {},
   "outputs": [
    {
     "output_type": "execute_result",
     "data": {
      "text/plain": [
       "                   W  X         Y         Z\n",
       "2020-04-01  0.000000  8 -0.647671 -0.685011\n",
       "2020-04-02 -1.028921  8 -0.761780 -2.144773\n",
       "2020-04-03 -0.383745  8  0.051092  1.667557\n",
       "2020-04-04  0.706284  8  1.122956  0.047652\n",
       "2020-04-05 -1.029733  8  1.191038 -0.087079\n",
       "2020-04-06 -1.145060  8 -1.424586 -0.250127\n",
       "2020-04-07 -0.782393  8 -0.269792 -0.375141\n",
       "2020-04-08 -1.280881  8 -0.415890 -0.721982"
      ],
      "text/html": "<div>\n<style scoped>\n    .dataframe tbody tr th:only-of-type {\n        vertical-align: middle;\n    }\n\n    .dataframe tbody tr th {\n        vertical-align: top;\n    }\n\n    .dataframe thead th {\n        text-align: right;\n    }\n</style>\n<table border=\"1\" class=\"dataframe\">\n  <thead>\n    <tr style=\"text-align: right;\">\n      <th></th>\n      <th>W</th>\n      <th>X</th>\n      <th>Y</th>\n      <th>Z</th>\n    </tr>\n  </thead>\n  <tbody>\n    <tr>\n      <th>2020-04-01</th>\n      <td>0.000000</td>\n      <td>8</td>\n      <td>-0.647671</td>\n      <td>-0.685011</td>\n    </tr>\n    <tr>\n      <th>2020-04-02</th>\n      <td>-1.028921</td>\n      <td>8</td>\n      <td>-0.761780</td>\n      <td>-2.144773</td>\n    </tr>\n    <tr>\n      <th>2020-04-03</th>\n      <td>-0.383745</td>\n      <td>8</td>\n      <td>0.051092</td>\n      <td>1.667557</td>\n    </tr>\n    <tr>\n      <th>2020-04-04</th>\n      <td>0.706284</td>\n      <td>8</td>\n      <td>1.122956</td>\n      <td>0.047652</td>\n    </tr>\n    <tr>\n      <th>2020-04-05</th>\n      <td>-1.029733</td>\n      <td>8</td>\n      <td>1.191038</td>\n      <td>-0.087079</td>\n    </tr>\n    <tr>\n      <th>2020-04-06</th>\n      <td>-1.145060</td>\n      <td>8</td>\n      <td>-1.424586</td>\n      <td>-0.250127</td>\n    </tr>\n    <tr>\n      <th>2020-04-07</th>\n      <td>-0.782393</td>\n      <td>8</td>\n      <td>-0.269792</td>\n      <td>-0.375141</td>\n    </tr>\n    <tr>\n      <th>2020-04-08</th>\n      <td>-1.280881</td>\n      <td>8</td>\n      <td>-0.415890</td>\n      <td>-0.721982</td>\n    </tr>\n  </tbody>\n</table>\n</div>"
     },
     "metadata": {},
     "execution_count": 33
    }
   ],
   "source": [
    "df.at[dates[0], 'W'] = 0\n",
    "\n",
    "df.iat[0,1] = 0\n",
    "\n",
    "df.loc[:, 'X'] = np.array([8] * len(df))\n",
    "\n",
    "df"
   ]
  },
  {
   "source": [
    "A where with operation"
   ],
   "cell_type": "markdown",
   "metadata": {}
  },
  {
   "cell_type": "code",
   "execution_count": 34,
   "metadata": {},
   "outputs": [
    {
     "output_type": "execute_result",
     "data": {
      "text/plain": [
       "                   W  X         Y         Z\n",
       "2020-04-01  0.000000 -8 -0.647671 -0.685011\n",
       "2020-04-02 -1.028921 -8 -0.761780 -2.144773\n",
       "2020-04-03 -0.383745 -8 -0.051092 -1.667557\n",
       "2020-04-04 -0.706284 -8 -1.122956 -0.047652\n",
       "2020-04-05 -1.029733 -8 -1.191038 -0.087079\n",
       "2020-04-06 -1.145060 -8 -1.424586 -0.250127\n",
       "2020-04-07 -0.782393 -8 -0.269792 -0.375141\n",
       "2020-04-08 -1.280881 -8 -0.415890 -0.721982"
      ],
      "text/html": "<div>\n<style scoped>\n    .dataframe tbody tr th:only-of-type {\n        vertical-align: middle;\n    }\n\n    .dataframe tbody tr th {\n        vertical-align: top;\n    }\n\n    .dataframe thead th {\n        text-align: right;\n    }\n</style>\n<table border=\"1\" class=\"dataframe\">\n  <thead>\n    <tr style=\"text-align: right;\">\n      <th></th>\n      <th>W</th>\n      <th>X</th>\n      <th>Y</th>\n      <th>Z</th>\n    </tr>\n  </thead>\n  <tbody>\n    <tr>\n      <th>2020-04-01</th>\n      <td>0.000000</td>\n      <td>-8</td>\n      <td>-0.647671</td>\n      <td>-0.685011</td>\n    </tr>\n    <tr>\n      <th>2020-04-02</th>\n      <td>-1.028921</td>\n      <td>-8</td>\n      <td>-0.761780</td>\n      <td>-2.144773</td>\n    </tr>\n    <tr>\n      <th>2020-04-03</th>\n      <td>-0.383745</td>\n      <td>-8</td>\n      <td>-0.051092</td>\n      <td>-1.667557</td>\n    </tr>\n    <tr>\n      <th>2020-04-04</th>\n      <td>-0.706284</td>\n      <td>-8</td>\n      <td>-1.122956</td>\n      <td>-0.047652</td>\n    </tr>\n    <tr>\n      <th>2020-04-05</th>\n      <td>-1.029733</td>\n      <td>-8</td>\n      <td>-1.191038</td>\n      <td>-0.087079</td>\n    </tr>\n    <tr>\n      <th>2020-04-06</th>\n      <td>-1.145060</td>\n      <td>-8</td>\n      <td>-1.424586</td>\n      <td>-0.250127</td>\n    </tr>\n    <tr>\n      <th>2020-04-07</th>\n      <td>-0.782393</td>\n      <td>-8</td>\n      <td>-0.269792</td>\n      <td>-0.375141</td>\n    </tr>\n    <tr>\n      <th>2020-04-08</th>\n      <td>-1.280881</td>\n      <td>-8</td>\n      <td>-0.415890</td>\n      <td>-0.721982</td>\n    </tr>\n  </tbody>\n</table>\n</div>"
     },
     "metadata": {},
     "execution_count": 34
    }
   ],
   "source": [
    "df2 = df.copy()\n",
    "\n",
    "df2[df2 > 0] = -df2\n",
    "\n",
    "df2"
   ]
  },
  {
   "source": [
    "---\n",
    "### Missing Data\n",
    "---\n",
    "\n",
    "Pandas primarily uses the value np.nan to represent missing data. It is by default not included in computations. See the Missing Data section.\n",
    "\n",
    "Reindexing allows you to change/add/delete the index on a specified axis. This returns a copy of the data."
   ],
   "cell_type": "markdown",
   "metadata": {}
  },
  {
   "cell_type": "code",
   "execution_count": 35,
   "metadata": {},
   "outputs": [
    {
     "output_type": "execute_result",
     "data": {
      "text/plain": [
       "                   W  X         Y         Z    E\n",
       "2020-04-01  0.000000  8 -0.647671 -0.685011  1.0\n",
       "2020-04-02 -1.028921  8 -0.761780 -2.144773  1.0\n",
       "2020-04-03 -0.383745  8  0.051092  1.667557  NaN\n",
       "2020-04-04  0.706284  8  1.122956  0.047652  NaN"
      ],
      "text/html": "<div>\n<style scoped>\n    .dataframe tbody tr th:only-of-type {\n        vertical-align: middle;\n    }\n\n    .dataframe tbody tr th {\n        vertical-align: top;\n    }\n\n    .dataframe thead th {\n        text-align: right;\n    }\n</style>\n<table border=\"1\" class=\"dataframe\">\n  <thead>\n    <tr style=\"text-align: right;\">\n      <th></th>\n      <th>W</th>\n      <th>X</th>\n      <th>Y</th>\n      <th>Z</th>\n      <th>E</th>\n    </tr>\n  </thead>\n  <tbody>\n    <tr>\n      <th>2020-04-01</th>\n      <td>0.000000</td>\n      <td>8</td>\n      <td>-0.647671</td>\n      <td>-0.685011</td>\n      <td>1.0</td>\n    </tr>\n    <tr>\n      <th>2020-04-02</th>\n      <td>-1.028921</td>\n      <td>8</td>\n      <td>-0.761780</td>\n      <td>-2.144773</td>\n      <td>1.0</td>\n    </tr>\n    <tr>\n      <th>2020-04-03</th>\n      <td>-0.383745</td>\n      <td>8</td>\n      <td>0.051092</td>\n      <td>1.667557</td>\n      <td>NaN</td>\n    </tr>\n    <tr>\n      <th>2020-04-04</th>\n      <td>0.706284</td>\n      <td>8</td>\n      <td>1.122956</td>\n      <td>0.047652</td>\n      <td>NaN</td>\n    </tr>\n  </tbody>\n</table>\n</div>"
     },
     "metadata": {},
     "execution_count": 35
    }
   ],
   "source": [
    "df1 = df.reindex(index = dates[0:4], columns = list(df.columns) + ['E'])\n",
    "df1.loc[dates[0] : dates[1], 'E'] = 1\n",
    "df1"
   ]
  },
  {
   "source": [
    "To drop any rows with NaN values"
   ],
   "cell_type": "markdown",
   "metadata": {}
  },
  {
   "cell_type": "code",
   "execution_count": 36,
   "metadata": {},
   "outputs": [
    {
     "output_type": "execute_result",
     "data": {
      "text/plain": [
       "                   W  X         Y         Z    E\n",
       "2020-04-01  0.000000  8 -0.647671 -0.685011  1.0\n",
       "2020-04-02 -1.028921  8 -0.761780 -2.144773  1.0"
      ],
      "text/html": "<div>\n<style scoped>\n    .dataframe tbody tr th:only-of-type {\n        vertical-align: middle;\n    }\n\n    .dataframe tbody tr th {\n        vertical-align: top;\n    }\n\n    .dataframe thead th {\n        text-align: right;\n    }\n</style>\n<table border=\"1\" class=\"dataframe\">\n  <thead>\n    <tr style=\"text-align: right;\">\n      <th></th>\n      <th>W</th>\n      <th>X</th>\n      <th>Y</th>\n      <th>Z</th>\n      <th>E</th>\n    </tr>\n  </thead>\n  <tbody>\n    <tr>\n      <th>2020-04-01</th>\n      <td>0.000000</td>\n      <td>8</td>\n      <td>-0.647671</td>\n      <td>-0.685011</td>\n      <td>1.0</td>\n    </tr>\n    <tr>\n      <th>2020-04-02</th>\n      <td>-1.028921</td>\n      <td>8</td>\n      <td>-0.761780</td>\n      <td>-2.144773</td>\n      <td>1.0</td>\n    </tr>\n  </tbody>\n</table>\n</div>"
     },
     "metadata": {},
     "execution_count": 36
    }
   ],
   "source": [
    "df1.dropna(how = 'any')"
   ]
  },
  {
   "cell_type": "code",
   "execution_count": 37,
   "metadata": {},
   "outputs": [
    {
     "output_type": "execute_result",
     "data": {
      "text/plain": [
       "                   W  X         Y         Z    E\n",
       "2020-04-01  0.000000  8 -0.647671 -0.685011  1.0\n",
       "2020-04-02 -1.028921  8 -0.761780 -2.144773  1.0\n",
       "2020-04-03 -0.383745  8  0.051092  1.667557  1.0\n",
       "2020-04-04  0.706284  8  1.122956  0.047652  1.0"
      ],
      "text/html": "<div>\n<style scoped>\n    .dataframe tbody tr th:only-of-type {\n        vertical-align: middle;\n    }\n\n    .dataframe tbody tr th {\n        vertical-align: top;\n    }\n\n    .dataframe thead th {\n        text-align: right;\n    }\n</style>\n<table border=\"1\" class=\"dataframe\">\n  <thead>\n    <tr style=\"text-align: right;\">\n      <th></th>\n      <th>W</th>\n      <th>X</th>\n      <th>Y</th>\n      <th>Z</th>\n      <th>E</th>\n    </tr>\n  </thead>\n  <tbody>\n    <tr>\n      <th>2020-04-01</th>\n      <td>0.000000</td>\n      <td>8</td>\n      <td>-0.647671</td>\n      <td>-0.685011</td>\n      <td>1.0</td>\n    </tr>\n    <tr>\n      <th>2020-04-02</th>\n      <td>-1.028921</td>\n      <td>8</td>\n      <td>-0.761780</td>\n      <td>-2.144773</td>\n      <td>1.0</td>\n    </tr>\n    <tr>\n      <th>2020-04-03</th>\n      <td>-0.383745</td>\n      <td>8</td>\n      <td>0.051092</td>\n      <td>1.667557</td>\n      <td>1.0</td>\n    </tr>\n    <tr>\n      <th>2020-04-04</th>\n      <td>0.706284</td>\n      <td>8</td>\n      <td>1.122956</td>\n      <td>0.047652</td>\n      <td>1.0</td>\n    </tr>\n  </tbody>\n</table>\n</div>"
     },
     "metadata": {},
     "execution_count": 37
    }
   ],
   "source": [
    "df1.fillna(value = np.mean(df1))"
   ]
  },
  {
   "source": [
    "To get the boolean mask where values = NaN"
   ],
   "cell_type": "markdown",
   "metadata": {}
  },
  {
   "cell_type": "code",
   "execution_count": 38,
   "metadata": {},
   "outputs": [
    {
     "output_type": "execute_result",
     "data": {
      "text/plain": [
       "                W      X      Y      Z      E\n",
       "2020-04-01  False  False  False  False  False\n",
       "2020-04-02  False  False  False  False  False\n",
       "2020-04-03  False  False  False  False   True\n",
       "2020-04-04  False  False  False  False   True"
      ],
      "text/html": "<div>\n<style scoped>\n    .dataframe tbody tr th:only-of-type {\n        vertical-align: middle;\n    }\n\n    .dataframe tbody tr th {\n        vertical-align: top;\n    }\n\n    .dataframe thead th {\n        text-align: right;\n    }\n</style>\n<table border=\"1\" class=\"dataframe\">\n  <thead>\n    <tr style=\"text-align: right;\">\n      <th></th>\n      <th>W</th>\n      <th>X</th>\n      <th>Y</th>\n      <th>Z</th>\n      <th>E</th>\n    </tr>\n  </thead>\n  <tbody>\n    <tr>\n      <th>2020-04-01</th>\n      <td>False</td>\n      <td>False</td>\n      <td>False</td>\n      <td>False</td>\n      <td>False</td>\n    </tr>\n    <tr>\n      <th>2020-04-02</th>\n      <td>False</td>\n      <td>False</td>\n      <td>False</td>\n      <td>False</td>\n      <td>False</td>\n    </tr>\n    <tr>\n      <th>2020-04-03</th>\n      <td>False</td>\n      <td>False</td>\n      <td>False</td>\n      <td>False</td>\n      <td>True</td>\n    </tr>\n    <tr>\n      <th>2020-04-04</th>\n      <td>False</td>\n      <td>False</td>\n      <td>False</td>\n      <td>False</td>\n      <td>True</td>\n    </tr>\n  </tbody>\n</table>\n</div>"
     },
     "metadata": {},
     "execution_count": 38
    }
   ],
   "source": [
    "pd.isna(df1)"
   ]
  },
  {
   "source": [
    "---\n",
    "#### Stats\n",
    "---"
   ],
   "cell_type": "markdown",
   "metadata": {}
  },
  {
   "cell_type": "code",
   "execution_count": 39,
   "metadata": {},
   "outputs": [
    {
     "output_type": "stream",
     "name": "stdout",
     "text": [
      "W   -0.618056\nX    8.000000\nY   -0.144329\nZ   -0.318613\ndtype: float64 \n\nW   -0.618056\nX    8.000000\nY   -0.144329\nZ   -0.318613\ndtype: float64 \n\n2020-04-01    1.666830\n2020-04-02    1.016131\n2020-04-03    2.333726\n2020-04-04    2.469223\n2020-04-05    2.018556\n2020-04-06    1.295057\n2020-04-07    1.643168\n2020-04-08    1.395312\nFreq: D, dtype: float64 \n\n"
     ]
    }
   ],
   "source": [
    "# Total mean\n",
    "print(df.mean(),'\\n')\n",
    "\n",
    "# Column mean\n",
    "print(df.mean(0),'\\n')\n",
    "\n",
    "# Row mean\n",
    "print(df.mean(1),'\\n')"
   ]
  },
  {
   "source": [
    "Operating with objects that have different dimensionality and need alignment, pandas automatically broadcasts along the specified dimension."
   ],
   "cell_type": "markdown",
   "metadata": {}
  },
  {
   "cell_type": "code",
   "execution_count": 40,
   "metadata": {},
   "outputs": [
    {
     "output_type": "execute_result",
     "data": {
      "text/plain": [
       "2020-04-01     NaN\n",
       "2020-04-02     NaN\n",
       "2020-04-03     1.0\n",
       "2020-04-04     2.0\n",
       "2020-04-05     3.0\n",
       "2020-04-06     NaN\n",
       "2020-04-07     8.0\n",
       "2020-04-08    12.0\n",
       "Freq: D, dtype: float64"
      ]
     },
     "metadata": {},
     "execution_count": 40
    }
   ],
   "source": [
    "s = pd.Series([1,2,3,np.nan,8,12,21,88], index = dates).shift(2)\n",
    "s"
   ]
  },
  {
   "cell_type": "code",
   "execution_count": 41,
   "metadata": {},
   "outputs": [
    {
     "output_type": "execute_result",
     "data": {
      "text/plain": [
       "                    W    X          Y          Z\n",
       "2020-04-01        NaN  NaN        NaN        NaN\n",
       "2020-04-02        NaN  NaN        NaN        NaN\n",
       "2020-04-03  -1.383745  7.0  -0.948908   0.667557\n",
       "2020-04-04  -1.293716  6.0  -0.877044  -1.952348\n",
       "2020-04-05  -4.029733  5.0  -1.808962  -3.087079\n",
       "2020-04-06        NaN  NaN        NaN        NaN\n",
       "2020-04-07  -8.782393  0.0  -8.269792  -8.375141\n",
       "2020-04-08 -13.280881 -4.0 -12.415890 -12.721982"
      ],
      "text/html": "<div>\n<style scoped>\n    .dataframe tbody tr th:only-of-type {\n        vertical-align: middle;\n    }\n\n    .dataframe tbody tr th {\n        vertical-align: top;\n    }\n\n    .dataframe thead th {\n        text-align: right;\n    }\n</style>\n<table border=\"1\" class=\"dataframe\">\n  <thead>\n    <tr style=\"text-align: right;\">\n      <th></th>\n      <th>W</th>\n      <th>X</th>\n      <th>Y</th>\n      <th>Z</th>\n    </tr>\n  </thead>\n  <tbody>\n    <tr>\n      <th>2020-04-01</th>\n      <td>NaN</td>\n      <td>NaN</td>\n      <td>NaN</td>\n      <td>NaN</td>\n    </tr>\n    <tr>\n      <th>2020-04-02</th>\n      <td>NaN</td>\n      <td>NaN</td>\n      <td>NaN</td>\n      <td>NaN</td>\n    </tr>\n    <tr>\n      <th>2020-04-03</th>\n      <td>-1.383745</td>\n      <td>7.0</td>\n      <td>-0.948908</td>\n      <td>0.667557</td>\n    </tr>\n    <tr>\n      <th>2020-04-04</th>\n      <td>-1.293716</td>\n      <td>6.0</td>\n      <td>-0.877044</td>\n      <td>-1.952348</td>\n    </tr>\n    <tr>\n      <th>2020-04-05</th>\n      <td>-4.029733</td>\n      <td>5.0</td>\n      <td>-1.808962</td>\n      <td>-3.087079</td>\n    </tr>\n    <tr>\n      <th>2020-04-06</th>\n      <td>NaN</td>\n      <td>NaN</td>\n      <td>NaN</td>\n      <td>NaN</td>\n    </tr>\n    <tr>\n      <th>2020-04-07</th>\n      <td>-8.782393</td>\n      <td>0.0</td>\n      <td>-8.269792</td>\n      <td>-8.375141</td>\n    </tr>\n    <tr>\n      <th>2020-04-08</th>\n      <td>-13.280881</td>\n      <td>-4.0</td>\n      <td>-12.415890</td>\n      <td>-12.721982</td>\n    </tr>\n  </tbody>\n</table>\n</div>"
     },
     "metadata": {},
     "execution_count": 41
    }
   ],
   "source": [
    "df.sub(s, axis = 'index')"
   ]
  },
  {
   "source": [
    "---\n",
    "#### Apply\n",
    "---\n",
    "\n",
    "Apply a function to the data"
   ],
   "cell_type": "markdown",
   "metadata": {}
  },
  {
   "cell_type": "code",
   "execution_count": 42,
   "metadata": {},
   "outputs": [
    {
     "output_type": "execute_result",
     "data": {
      "text/plain": [
       "                   W   X         Y         Z\n",
       "2020-04-01  0.000000   8 -0.647671 -0.685011\n",
       "2020-04-02 -1.028921  16 -1.409450 -2.829784\n",
       "2020-04-03 -1.412666  24 -1.358358 -1.162228\n",
       "2020-04-04 -0.706383  32 -0.235402 -1.114575\n",
       "2020-04-05 -1.736116  40  0.955636 -1.201655\n",
       "2020-04-06 -2.881176  48 -0.468950 -1.451782\n",
       "2020-04-07 -3.663569  56 -0.738743 -1.826924\n",
       "2020-04-08 -4.944451  64 -1.154633 -2.548905"
      ],
      "text/html": "<div>\n<style scoped>\n    .dataframe tbody tr th:only-of-type {\n        vertical-align: middle;\n    }\n\n    .dataframe tbody tr th {\n        vertical-align: top;\n    }\n\n    .dataframe thead th {\n        text-align: right;\n    }\n</style>\n<table border=\"1\" class=\"dataframe\">\n  <thead>\n    <tr style=\"text-align: right;\">\n      <th></th>\n      <th>W</th>\n      <th>X</th>\n      <th>Y</th>\n      <th>Z</th>\n    </tr>\n  </thead>\n  <tbody>\n    <tr>\n      <th>2020-04-01</th>\n      <td>0.000000</td>\n      <td>8</td>\n      <td>-0.647671</td>\n      <td>-0.685011</td>\n    </tr>\n    <tr>\n      <th>2020-04-02</th>\n      <td>-1.028921</td>\n      <td>16</td>\n      <td>-1.409450</td>\n      <td>-2.829784</td>\n    </tr>\n    <tr>\n      <th>2020-04-03</th>\n      <td>-1.412666</td>\n      <td>24</td>\n      <td>-1.358358</td>\n      <td>-1.162228</td>\n    </tr>\n    <tr>\n      <th>2020-04-04</th>\n      <td>-0.706383</td>\n      <td>32</td>\n      <td>-0.235402</td>\n      <td>-1.114575</td>\n    </tr>\n    <tr>\n      <th>2020-04-05</th>\n      <td>-1.736116</td>\n      <td>40</td>\n      <td>0.955636</td>\n      <td>-1.201655</td>\n    </tr>\n    <tr>\n      <th>2020-04-06</th>\n      <td>-2.881176</td>\n      <td>48</td>\n      <td>-0.468950</td>\n      <td>-1.451782</td>\n    </tr>\n    <tr>\n      <th>2020-04-07</th>\n      <td>-3.663569</td>\n      <td>56</td>\n      <td>-0.738743</td>\n      <td>-1.826924</td>\n    </tr>\n    <tr>\n      <th>2020-04-08</th>\n      <td>-4.944451</td>\n      <td>64</td>\n      <td>-1.154633</td>\n      <td>-2.548905</td>\n    </tr>\n  </tbody>\n</table>\n</div>"
     },
     "metadata": {},
     "execution_count": 42
    }
   ],
   "source": [
    "df.apply(np.cumsum)"
   ]
  },
  {
   "cell_type": "code",
   "execution_count": 43,
   "metadata": {},
   "outputs": [
    {
     "output_type": "execute_result",
     "data": {
      "text/plain": [
       "W    1.987165\n",
       "X    0.000000\n",
       "Y    2.615623\n",
       "Z    3.812330\n",
       "dtype: float64"
      ]
     },
     "metadata": {},
     "execution_count": 43
    }
   ],
   "source": [
    "df.apply(lambda x: x.max() - x.min())"
   ]
  },
  {
   "source": [
    "---\n",
    "#### Merge\n",
    "---\n",
    "\n",
    "#### Concat\n",
    "pandas provides various facilities for easily combining together Series and DataFrame objects with various kinds of set logic for the indexes and relational algebra functionality in the case of join / merge-type operations.\n"
   ],
   "cell_type": "markdown",
   "metadata": {}
  },
  {
   "cell_type": "code",
   "execution_count": 44,
   "metadata": {},
   "outputs": [
    {
     "output_type": "execute_result",
     "data": {
      "text/plain": [
       "          0         1         2         3\n",
       "0  0.222762  0.014405  1.574961 -1.069147\n",
       "1 -0.785593  0.300978  0.361302 -0.016889\n",
       "2  0.623643  1.810705 -0.386034  0.456199\n",
       "3 -0.481856  0.003001 -0.920770 -2.325746\n",
       "4  0.267837 -0.574480  0.001950  2.125956\n",
       "5 -0.432430  0.304838 -1.087905 -1.850800\n",
       "6  0.312702 -1.864743  0.384920  1.365417\n",
       "7  1.146239  1.701228 -0.980069 -0.205967\n",
       "8 -0.905118  1.130917 -0.324341 -0.048605\n",
       "9 -3.158523  0.482618 -0.802650 -0.066128"
      ],
      "text/html": "<div>\n<style scoped>\n    .dataframe tbody tr th:only-of-type {\n        vertical-align: middle;\n    }\n\n    .dataframe tbody tr th {\n        vertical-align: top;\n    }\n\n    .dataframe thead th {\n        text-align: right;\n    }\n</style>\n<table border=\"1\" class=\"dataframe\">\n  <thead>\n    <tr style=\"text-align: right;\">\n      <th></th>\n      <th>0</th>\n      <th>1</th>\n      <th>2</th>\n      <th>3</th>\n    </tr>\n  </thead>\n  <tbody>\n    <tr>\n      <th>0</th>\n      <td>0.222762</td>\n      <td>0.014405</td>\n      <td>1.574961</td>\n      <td>-1.069147</td>\n    </tr>\n    <tr>\n      <th>1</th>\n      <td>-0.785593</td>\n      <td>0.300978</td>\n      <td>0.361302</td>\n      <td>-0.016889</td>\n    </tr>\n    <tr>\n      <th>2</th>\n      <td>0.623643</td>\n      <td>1.810705</td>\n      <td>-0.386034</td>\n      <td>0.456199</td>\n    </tr>\n    <tr>\n      <th>3</th>\n      <td>-0.481856</td>\n      <td>0.003001</td>\n      <td>-0.920770</td>\n      <td>-2.325746</td>\n    </tr>\n    <tr>\n      <th>4</th>\n      <td>0.267837</td>\n      <td>-0.574480</td>\n      <td>0.001950</td>\n      <td>2.125956</td>\n    </tr>\n    <tr>\n      <th>5</th>\n      <td>-0.432430</td>\n      <td>0.304838</td>\n      <td>-1.087905</td>\n      <td>-1.850800</td>\n    </tr>\n    <tr>\n      <th>6</th>\n      <td>0.312702</td>\n      <td>-1.864743</td>\n      <td>0.384920</td>\n      <td>1.365417</td>\n    </tr>\n    <tr>\n      <th>7</th>\n      <td>1.146239</td>\n      <td>1.701228</td>\n      <td>-0.980069</td>\n      <td>-0.205967</td>\n    </tr>\n    <tr>\n      <th>8</th>\n      <td>-0.905118</td>\n      <td>1.130917</td>\n      <td>-0.324341</td>\n      <td>-0.048605</td>\n    </tr>\n    <tr>\n      <th>9</th>\n      <td>-3.158523</td>\n      <td>0.482618</td>\n      <td>-0.802650</td>\n      <td>-0.066128</td>\n    </tr>\n  </tbody>\n</table>\n</div>"
     },
     "metadata": {},
     "execution_count": 44
    }
   ],
   "source": [
    "df = pd.DataFrame(np.random.randn(10,4))\n",
    "df"
   ]
  },
  {
   "cell_type": "code",
   "execution_count": 45,
   "metadata": {},
   "outputs": [
    {
     "output_type": "execute_result",
     "data": {
      "text/plain": [
       "[          0         1         2         3\n",
       " 0  0.222762  0.014405  1.574961 -1.069147\n",
       " 1 -0.785593  0.300978  0.361302 -0.016889\n",
       " 2  0.623643  1.810705 -0.386034  0.456199,\n",
       "           0         1         2         3\n",
       " 3 -0.481856  0.003001 -0.920770 -2.325746\n",
       " 4  0.267837 -0.574480  0.001950  2.125956\n",
       " 5 -0.432430  0.304838 -1.087905 -1.850800\n",
       " 6  0.312702 -1.864743  0.384920  1.365417,\n",
       "           0         1         2         3\n",
       " 7  1.146239  1.701228 -0.980069 -0.205967\n",
       " 8 -0.905118  1.130917 -0.324341 -0.048605\n",
       " 9 -3.158523  0.482618 -0.802650 -0.066128]"
      ]
     },
     "metadata": {},
     "execution_count": 45
    }
   ],
   "source": [
    "pieces = [df[:3], df[3:7], df[7:]]\n",
    "pieces "
   ]
  },
  {
   "cell_type": "code",
   "execution_count": 46,
   "metadata": {},
   "outputs": [
    {
     "output_type": "execute_result",
     "data": {
      "text/plain": [
       "          0         1         2         3\n",
       "0  0.222762  0.014405  1.574961 -1.069147\n",
       "1 -0.785593  0.300978  0.361302 -0.016889\n",
       "2  0.623643  1.810705 -0.386034  0.456199\n",
       "3 -0.481856  0.003001 -0.920770 -2.325746\n",
       "4  0.267837 -0.574480  0.001950  2.125956\n",
       "5 -0.432430  0.304838 -1.087905 -1.850800\n",
       "6  0.312702 -1.864743  0.384920  1.365417\n",
       "7  1.146239  1.701228 -0.980069 -0.205967\n",
       "8 -0.905118  1.130917 -0.324341 -0.048605\n",
       "9 -3.158523  0.482618 -0.802650 -0.066128"
      ],
      "text/html": "<div>\n<style scoped>\n    .dataframe tbody tr th:only-of-type {\n        vertical-align: middle;\n    }\n\n    .dataframe tbody tr th {\n        vertical-align: top;\n    }\n\n    .dataframe thead th {\n        text-align: right;\n    }\n</style>\n<table border=\"1\" class=\"dataframe\">\n  <thead>\n    <tr style=\"text-align: right;\">\n      <th></th>\n      <th>0</th>\n      <th>1</th>\n      <th>2</th>\n      <th>3</th>\n    </tr>\n  </thead>\n  <tbody>\n    <tr>\n      <th>0</th>\n      <td>0.222762</td>\n      <td>0.014405</td>\n      <td>1.574961</td>\n      <td>-1.069147</td>\n    </tr>\n    <tr>\n      <th>1</th>\n      <td>-0.785593</td>\n      <td>0.300978</td>\n      <td>0.361302</td>\n      <td>-0.016889</td>\n    </tr>\n    <tr>\n      <th>2</th>\n      <td>0.623643</td>\n      <td>1.810705</td>\n      <td>-0.386034</td>\n      <td>0.456199</td>\n    </tr>\n    <tr>\n      <th>3</th>\n      <td>-0.481856</td>\n      <td>0.003001</td>\n      <td>-0.920770</td>\n      <td>-2.325746</td>\n    </tr>\n    <tr>\n      <th>4</th>\n      <td>0.267837</td>\n      <td>-0.574480</td>\n      <td>0.001950</td>\n      <td>2.125956</td>\n    </tr>\n    <tr>\n      <th>5</th>\n      <td>-0.432430</td>\n      <td>0.304838</td>\n      <td>-1.087905</td>\n      <td>-1.850800</td>\n    </tr>\n    <tr>\n      <th>6</th>\n      <td>0.312702</td>\n      <td>-1.864743</td>\n      <td>0.384920</td>\n      <td>1.365417</td>\n    </tr>\n    <tr>\n      <th>7</th>\n      <td>1.146239</td>\n      <td>1.701228</td>\n      <td>-0.980069</td>\n      <td>-0.205967</td>\n    </tr>\n    <tr>\n      <th>8</th>\n      <td>-0.905118</td>\n      <td>1.130917</td>\n      <td>-0.324341</td>\n      <td>-0.048605</td>\n    </tr>\n    <tr>\n      <th>9</th>\n      <td>-3.158523</td>\n      <td>0.482618</td>\n      <td>-0.802650</td>\n      <td>-0.066128</td>\n    </tr>\n  </tbody>\n</table>\n</div>"
     },
     "metadata": {},
     "execution_count": 46
    }
   ],
   "source": [
    "pd.concat(pieces)"
   ]
  },
  {
   "source": [
    "#### Join"
   ],
   "cell_type": "markdown",
   "metadata": {}
  },
  {
   "cell_type": "code",
   "execution_count": 47,
   "metadata": {},
   "outputs": [
    {
     "output_type": "execute_result",
     "data": {
      "text/plain": [
       "        key  lval  rval\n",
       "0       foo     1     8\n",
       "1  fighters     2    66"
      ],
      "text/html": "<div>\n<style scoped>\n    .dataframe tbody tr th:only-of-type {\n        vertical-align: middle;\n    }\n\n    .dataframe tbody tr th {\n        vertical-align: top;\n    }\n\n    .dataframe thead th {\n        text-align: right;\n    }\n</style>\n<table border=\"1\" class=\"dataframe\">\n  <thead>\n    <tr style=\"text-align: right;\">\n      <th></th>\n      <th>key</th>\n      <th>lval</th>\n      <th>rval</th>\n    </tr>\n  </thead>\n  <tbody>\n    <tr>\n      <th>0</th>\n      <td>foo</td>\n      <td>1</td>\n      <td>8</td>\n    </tr>\n    <tr>\n      <th>1</th>\n      <td>fighters</td>\n      <td>2</td>\n      <td>66</td>\n    </tr>\n  </tbody>\n</table>\n</div>"
     },
     "metadata": {},
     "execution_count": 47
    }
   ],
   "source": [
    "left = pd.DataFrame({'key':['foo', 'fighters'], 'lval':[1,2]})\n",
    "right = pd.DataFrame({'key':['foo', 'fighters'], 'rval':[8,66]})\n",
    "pd.merge(left,right, on = 'key')"
   ]
  },
  {
   "source": [
    "---\n",
    "#### Grouping\n",
    "---\n",
    "\n",
    "By “group by” we are referring to a process involving one or more of the following steps:\n",
    "\n",
    "* Splitting the data into groups based on some criteria\n",
    "* Applying a function to each group independently\n",
    "* Combining the results into a data structure"
   ],
   "cell_type": "markdown",
   "metadata": {}
  },
  {
   "cell_type": "code",
   "execution_count": 48,
   "metadata": {},
   "outputs": [
    {
     "output_type": "execute_result",
     "data": {
      "text/plain": [
       "          A      B         C  D\n",
       "0       foo    one  1.709025  0\n",
       "1  fighters    six -0.868673  0\n",
       "2       foo    two  0.690457  0\n",
       "3  fighters  three -0.692454  0\n",
       "4       foo    two  0.235426  0\n",
       "5  fighters    two -1.532986  0\n",
       "6       foo    one  0.401090  0\n",
       "7       foo  three  0.003271  0"
      ],
      "text/html": "<div>\n<style scoped>\n    .dataframe tbody tr th:only-of-type {\n        vertical-align: middle;\n    }\n\n    .dataframe tbody tr th {\n        vertical-align: top;\n    }\n\n    .dataframe thead th {\n        text-align: right;\n    }\n</style>\n<table border=\"1\" class=\"dataframe\">\n  <thead>\n    <tr style=\"text-align: right;\">\n      <th></th>\n      <th>A</th>\n      <th>B</th>\n      <th>C</th>\n      <th>D</th>\n    </tr>\n  </thead>\n  <tbody>\n    <tr>\n      <th>0</th>\n      <td>foo</td>\n      <td>one</td>\n      <td>1.709025</td>\n      <td>0</td>\n    </tr>\n    <tr>\n      <th>1</th>\n      <td>fighters</td>\n      <td>six</td>\n      <td>-0.868673</td>\n      <td>0</td>\n    </tr>\n    <tr>\n      <th>2</th>\n      <td>foo</td>\n      <td>two</td>\n      <td>0.690457</td>\n      <td>0</td>\n    </tr>\n    <tr>\n      <th>3</th>\n      <td>fighters</td>\n      <td>three</td>\n      <td>-0.692454</td>\n      <td>0</td>\n    </tr>\n    <tr>\n      <th>4</th>\n      <td>foo</td>\n      <td>two</td>\n      <td>0.235426</td>\n      <td>0</td>\n    </tr>\n    <tr>\n      <th>5</th>\n      <td>fighters</td>\n      <td>two</td>\n      <td>-1.532986</td>\n      <td>0</td>\n    </tr>\n    <tr>\n      <th>6</th>\n      <td>foo</td>\n      <td>one</td>\n      <td>0.401090</td>\n      <td>0</td>\n    </tr>\n    <tr>\n      <th>7</th>\n      <td>foo</td>\n      <td>three</td>\n      <td>0.003271</td>\n      <td>0</td>\n    </tr>\n  </tbody>\n</table>\n</div>"
     },
     "metadata": {},
     "execution_count": 48
    }
   ],
   "source": [
    "df = pd.DataFrame(\n",
    "       {\n",
    "            \"A\": [\"foo\", \"fighters\", \"foo\", \"fighters\", \"foo\", \"fighters\", \"foo\", \"foo\"],\n",
    "            \"B\": [\"one\", \"six\", \"two\", \"three\", \"two\", \"two\", \"one\", \"three\"],\n",
    "            \"C\": np.random.randn(8),\n",
    "            \"D\": np.random.randint(0,1,8)\n",
    "        }\n",
    "    )\n",
    "df"
   ]
  },
  {
   "cell_type": "code",
   "execution_count": 49,
   "metadata": {},
   "outputs": [
    {
     "output_type": "execute_result",
     "data": {
      "text/plain": [
       "                 C    D\n",
       "A                      \n",
       "fighters  0.443256  0.0\n",
       "foo       0.664525  0.0"
      ],
      "text/html": "<div>\n<style scoped>\n    .dataframe tbody tr th:only-of-type {\n        vertical-align: middle;\n    }\n\n    .dataframe tbody tr th {\n        vertical-align: top;\n    }\n\n    .dataframe thead th {\n        text-align: right;\n    }\n</style>\n<table border=\"1\" class=\"dataframe\">\n  <thead>\n    <tr style=\"text-align: right;\">\n      <th></th>\n      <th>C</th>\n      <th>D</th>\n    </tr>\n    <tr>\n      <th>A</th>\n      <th></th>\n      <th></th>\n    </tr>\n  </thead>\n  <tbody>\n    <tr>\n      <th>fighters</th>\n      <td>0.443256</td>\n      <td>0.0</td>\n    </tr>\n    <tr>\n      <th>foo</th>\n      <td>0.664525</td>\n      <td>0.0</td>\n    </tr>\n  </tbody>\n</table>\n</div>"
     },
     "metadata": {},
     "execution_count": 49
    }
   ],
   "source": [
    "df.groupby('A').std()"
   ]
  },
  {
   "cell_type": "code",
   "execution_count": 50,
   "metadata": {},
   "outputs": [
    {
     "output_type": "execute_result",
     "data": {
      "text/plain": [
       "                       C  D\n",
       "A        B                 \n",
       "fighters six   -0.868673  0\n",
       "         three -0.692454  0\n",
       "         two   -1.532986  0\n",
       "foo      one    1.055058  0\n",
       "         three  0.003271  0\n",
       "         two    0.462942  0"
      ],
      "text/html": "<div>\n<style scoped>\n    .dataframe tbody tr th:only-of-type {\n        vertical-align: middle;\n    }\n\n    .dataframe tbody tr th {\n        vertical-align: top;\n    }\n\n    .dataframe thead th {\n        text-align: right;\n    }\n</style>\n<table border=\"1\" class=\"dataframe\">\n  <thead>\n    <tr style=\"text-align: right;\">\n      <th></th>\n      <th></th>\n      <th>C</th>\n      <th>D</th>\n    </tr>\n    <tr>\n      <th>A</th>\n      <th>B</th>\n      <th></th>\n      <th></th>\n    </tr>\n  </thead>\n  <tbody>\n    <tr>\n      <th rowspan=\"3\" valign=\"top\">fighters</th>\n      <th>six</th>\n      <td>-0.868673</td>\n      <td>0</td>\n    </tr>\n    <tr>\n      <th>three</th>\n      <td>-0.692454</td>\n      <td>0</td>\n    </tr>\n    <tr>\n      <th>two</th>\n      <td>-1.532986</td>\n      <td>0</td>\n    </tr>\n    <tr>\n      <th rowspan=\"3\" valign=\"top\">foo</th>\n      <th>one</th>\n      <td>1.055058</td>\n      <td>0</td>\n    </tr>\n    <tr>\n      <th>three</th>\n      <td>0.003271</td>\n      <td>0</td>\n    </tr>\n    <tr>\n      <th>two</th>\n      <td>0.462942</td>\n      <td>0</td>\n    </tr>\n  </tbody>\n</table>\n</div>"
     },
     "metadata": {},
     "execution_count": 50
    }
   ],
   "source": [
    "df.groupby(['A', 'B']).mean()"
   ]
  },
  {
   "cell_type": "code",
   "execution_count": 51,
   "metadata": {},
   "outputs": [
    {
     "output_type": "execute_result",
     "data": {
      "text/plain": [
       "                         C\n",
       "A        B     D          \n",
       "fighters six   0 -0.868673\n",
       "         three 0 -0.692454\n",
       "         two   0 -1.532986\n",
       "foo      one   0  2.110115\n",
       "         three 0  0.003271\n",
       "         two   0  0.925883"
      ],
      "text/html": "<div>\n<style scoped>\n    .dataframe tbody tr th:only-of-type {\n        vertical-align: middle;\n    }\n\n    .dataframe tbody tr th {\n        vertical-align: top;\n    }\n\n    .dataframe thead th {\n        text-align: right;\n    }\n</style>\n<table border=\"1\" class=\"dataframe\">\n  <thead>\n    <tr style=\"text-align: right;\">\n      <th></th>\n      <th></th>\n      <th></th>\n      <th>C</th>\n    </tr>\n    <tr>\n      <th>A</th>\n      <th>B</th>\n      <th>D</th>\n      <th></th>\n    </tr>\n  </thead>\n  <tbody>\n    <tr>\n      <th rowspan=\"3\" valign=\"top\">fighters</th>\n      <th>six</th>\n      <th>0</th>\n      <td>-0.868673</td>\n    </tr>\n    <tr>\n      <th>three</th>\n      <th>0</th>\n      <td>-0.692454</td>\n    </tr>\n    <tr>\n      <th>two</th>\n      <th>0</th>\n      <td>-1.532986</td>\n    </tr>\n    <tr>\n      <th rowspan=\"3\" valign=\"top\">foo</th>\n      <th>one</th>\n      <th>0</th>\n      <td>2.110115</td>\n    </tr>\n    <tr>\n      <th>three</th>\n      <th>0</th>\n      <td>0.003271</td>\n    </tr>\n    <tr>\n      <th>two</th>\n      <th>0</th>\n      <td>0.925883</td>\n    </tr>\n  </tbody>\n</table>\n</div>"
     },
     "metadata": {},
     "execution_count": 51
    }
   ],
   "source": [
    "df.groupby(['A', 'B', 'D']).sum()"
   ]
  },
  {
   "source": [
    "#### Stack"
   ],
   "cell_type": "markdown",
   "metadata": {}
  },
  {
   "cell_type": "code",
   "execution_count": 52,
   "metadata": {},
   "outputs": [],
   "source": [
    "tuples = list(\n",
    "        zip(\n",
    "            *[\n",
    "                [\"bar\", \"bar\", \"baz\", \"baz\", \"foo\", \"foo\", \"qux\", \"qux\"],\n",
    "                [\"one\", \"two\", \"one\", \"two\", \"one\", \"two\", \"one\", \"two\"],\n",
    "            ]\n",
    "        )\n",
    "    )"
   ]
  },
  {
   "cell_type": "code",
   "execution_count": 53,
   "metadata": {},
   "outputs": [
    {
     "output_type": "execute_result",
     "data": {
      "text/plain": [
       "                A         B\n",
       "1st 2nd                    \n",
       "bar one -2.214677  2.433334\n",
       "    two  0.102401 -0.309848\n",
       "baz one  0.208497 -2.151535\n",
       "    two  0.930360 -1.458873"
      ],
      "text/html": "<div>\n<style scoped>\n    .dataframe tbody tr th:only-of-type {\n        vertical-align: middle;\n    }\n\n    .dataframe tbody tr th {\n        vertical-align: top;\n    }\n\n    .dataframe thead th {\n        text-align: right;\n    }\n</style>\n<table border=\"1\" class=\"dataframe\">\n  <thead>\n    <tr style=\"text-align: right;\">\n      <th></th>\n      <th></th>\n      <th>A</th>\n      <th>B</th>\n    </tr>\n    <tr>\n      <th>1st</th>\n      <th>2nd</th>\n      <th></th>\n      <th></th>\n    </tr>\n  </thead>\n  <tbody>\n    <tr>\n      <th rowspan=\"2\" valign=\"top\">bar</th>\n      <th>one</th>\n      <td>-2.214677</td>\n      <td>2.433334</td>\n    </tr>\n    <tr>\n      <th>two</th>\n      <td>0.102401</td>\n      <td>-0.309848</td>\n    </tr>\n    <tr>\n      <th rowspan=\"2\" valign=\"top\">baz</th>\n      <th>one</th>\n      <td>0.208497</td>\n      <td>-2.151535</td>\n    </tr>\n    <tr>\n      <th>two</th>\n      <td>0.930360</td>\n      <td>-1.458873</td>\n    </tr>\n  </tbody>\n</table>\n</div>"
     },
     "metadata": {},
     "execution_count": 53
    }
   ],
   "source": [
    "index = pd.MultiIndex.from_tuples(tuples, names = ['1st', '2nd'])\n",
    "df = pd.DataFrame(np.random.randn(8,2), index = index, columns = ['A','B'])\n",
    "df2 = df[:4]\n",
    "df2"
   ]
  },
  {
   "cell_type": "code",
   "execution_count": 54,
   "metadata": {},
   "outputs": [
    {
     "output_type": "execute_result",
     "data": {
      "text/plain": [
       "1st  2nd   \n",
       "bar  one  A   -2.214677\n",
       "          B    2.433334\n",
       "     two  A    0.102401\n",
       "          B   -0.309848\n",
       "baz  one  A    0.208497\n",
       "          B   -2.151535\n",
       "     two  A    0.930360\n",
       "          B   -1.458873\n",
       "dtype: float64"
      ]
     },
     "metadata": {},
     "execution_count": 54
    }
   ],
   "source": [
    "stacked = df2.stack()\n",
    "stacked"
   ]
  },
  {
   "cell_type": "code",
   "execution_count": 55,
   "metadata": {},
   "outputs": [
    {
     "output_type": "execute_result",
     "data": {
      "text/plain": [
       "                A         B\n",
       "1st 2nd                    \n",
       "bar one -2.214677  2.433334\n",
       "    two  0.102401 -0.309848\n",
       "baz one  0.208497 -2.151535\n",
       "    two  0.930360 -1.458873"
      ],
      "text/html": "<div>\n<style scoped>\n    .dataframe tbody tr th:only-of-type {\n        vertical-align: middle;\n    }\n\n    .dataframe tbody tr th {\n        vertical-align: top;\n    }\n\n    .dataframe thead th {\n        text-align: right;\n    }\n</style>\n<table border=\"1\" class=\"dataframe\">\n  <thead>\n    <tr style=\"text-align: right;\">\n      <th></th>\n      <th></th>\n      <th>A</th>\n      <th>B</th>\n    </tr>\n    <tr>\n      <th>1st</th>\n      <th>2nd</th>\n      <th></th>\n      <th></th>\n    </tr>\n  </thead>\n  <tbody>\n    <tr>\n      <th rowspan=\"2\" valign=\"top\">bar</th>\n      <th>one</th>\n      <td>-2.214677</td>\n      <td>2.433334</td>\n    </tr>\n    <tr>\n      <th>two</th>\n      <td>0.102401</td>\n      <td>-0.309848</td>\n    </tr>\n    <tr>\n      <th rowspan=\"2\" valign=\"top\">baz</th>\n      <th>one</th>\n      <td>0.208497</td>\n      <td>-2.151535</td>\n    </tr>\n    <tr>\n      <th>two</th>\n      <td>0.930360</td>\n      <td>-1.458873</td>\n    </tr>\n  </tbody>\n</table>\n</div>"
     },
     "metadata": {},
     "execution_count": 55
    }
   ],
   "source": [
    "stacked.unstack()"
   ]
  },
  {
   "cell_type": "code",
   "execution_count": 56,
   "metadata": {},
   "outputs": [
    {
     "output_type": "execute_result",
     "data": {
      "text/plain": [
       "2nd         one       two\n",
       "1st                      \n",
       "bar A -2.214677  0.102401\n",
       "    B  2.433334 -0.309848\n",
       "baz A  0.208497  0.930360\n",
       "    B -2.151535 -1.458873"
      ],
      "text/html": "<div>\n<style scoped>\n    .dataframe tbody tr th:only-of-type {\n        vertical-align: middle;\n    }\n\n    .dataframe tbody tr th {\n        vertical-align: top;\n    }\n\n    .dataframe thead th {\n        text-align: right;\n    }\n</style>\n<table border=\"1\" class=\"dataframe\">\n  <thead>\n    <tr style=\"text-align: right;\">\n      <th></th>\n      <th>2nd</th>\n      <th>one</th>\n      <th>two</th>\n    </tr>\n    <tr>\n      <th>1st</th>\n      <th></th>\n      <th></th>\n      <th></th>\n    </tr>\n  </thead>\n  <tbody>\n    <tr>\n      <th rowspan=\"2\" valign=\"top\">bar</th>\n      <th>A</th>\n      <td>-2.214677</td>\n      <td>0.102401</td>\n    </tr>\n    <tr>\n      <th>B</th>\n      <td>2.433334</td>\n      <td>-0.309848</td>\n    </tr>\n    <tr>\n      <th rowspan=\"2\" valign=\"top\">baz</th>\n      <th>A</th>\n      <td>0.208497</td>\n      <td>0.930360</td>\n    </tr>\n    <tr>\n      <th>B</th>\n      <td>-2.151535</td>\n      <td>-1.458873</td>\n    </tr>\n  </tbody>\n</table>\n</div>"
     },
     "metadata": {},
     "execution_count": 56
    }
   ],
   "source": [
    "stacked.unstack(1)"
   ]
  },
  {
   "cell_type": "code",
   "execution_count": 57,
   "metadata": {},
   "outputs": [
    {
     "output_type": "execute_result",
     "data": {
      "text/plain": [
       "1st         bar       baz\n",
       "2nd                      \n",
       "one A -2.214677  0.208497\n",
       "    B  2.433334 -2.151535\n",
       "two A  0.102401  0.930360\n",
       "    B -0.309848 -1.458873"
      ],
      "text/html": "<div>\n<style scoped>\n    .dataframe tbody tr th:only-of-type {\n        vertical-align: middle;\n    }\n\n    .dataframe tbody tr th {\n        vertical-align: top;\n    }\n\n    .dataframe thead th {\n        text-align: right;\n    }\n</style>\n<table border=\"1\" class=\"dataframe\">\n  <thead>\n    <tr style=\"text-align: right;\">\n      <th></th>\n      <th>1st</th>\n      <th>bar</th>\n      <th>baz</th>\n    </tr>\n    <tr>\n      <th>2nd</th>\n      <th></th>\n      <th></th>\n      <th></th>\n    </tr>\n  </thead>\n  <tbody>\n    <tr>\n      <th rowspan=\"2\" valign=\"top\">one</th>\n      <th>A</th>\n      <td>-2.214677</td>\n      <td>0.208497</td>\n    </tr>\n    <tr>\n      <th>B</th>\n      <td>2.433334</td>\n      <td>-2.151535</td>\n    </tr>\n    <tr>\n      <th rowspan=\"2\" valign=\"top\">two</th>\n      <th>A</th>\n      <td>0.102401</td>\n      <td>0.930360</td>\n    </tr>\n    <tr>\n      <th>B</th>\n      <td>-0.309848</td>\n      <td>-1.458873</td>\n    </tr>\n  </tbody>\n</table>\n</div>"
     },
     "metadata": {},
     "execution_count": 57
    }
   ],
   "source": [
    "stacked.unstack(0)"
   ]
  },
  {
   "source": [
    "Pivot Tables"
   ],
   "cell_type": "markdown",
   "metadata": {}
  },
  {
   "cell_type": "code",
   "execution_count": 58,
   "metadata": {},
   "outputs": [
    {
     "output_type": "execute_result",
     "data": {
      "text/plain": [
       "        A  B    C         D         E\n",
       "0     one  A  foo  0.868173 -1.367693\n",
       "1     one  B  foo -0.399962  0.527132\n",
       "2     two  C  foo -1.195178 -0.151998\n",
       "3   three  A  bar  0.166032 -0.491186\n",
       "4     one  B  bar -0.326275  1.339558\n",
       "5     one  C  bar -0.706879 -0.040288\n",
       "6     two  A  foo -0.355317  0.149001\n",
       "7   three  B  foo  1.078953  2.424316\n",
       "8     one  C  foo  0.301134 -0.356991\n",
       "9     one  A  bar  0.118463  0.546092\n",
       "10    two  B  bar -0.192469  0.680820\n",
       "11  three  C  bar -2.255886 -0.295540"
      ],
      "text/html": "<div>\n<style scoped>\n    .dataframe tbody tr th:only-of-type {\n        vertical-align: middle;\n    }\n\n    .dataframe tbody tr th {\n        vertical-align: top;\n    }\n\n    .dataframe thead th {\n        text-align: right;\n    }\n</style>\n<table border=\"1\" class=\"dataframe\">\n  <thead>\n    <tr style=\"text-align: right;\">\n      <th></th>\n      <th>A</th>\n      <th>B</th>\n      <th>C</th>\n      <th>D</th>\n      <th>E</th>\n    </tr>\n  </thead>\n  <tbody>\n    <tr>\n      <th>0</th>\n      <td>one</td>\n      <td>A</td>\n      <td>foo</td>\n      <td>0.868173</td>\n      <td>-1.367693</td>\n    </tr>\n    <tr>\n      <th>1</th>\n      <td>one</td>\n      <td>B</td>\n      <td>foo</td>\n      <td>-0.399962</td>\n      <td>0.527132</td>\n    </tr>\n    <tr>\n      <th>2</th>\n      <td>two</td>\n      <td>C</td>\n      <td>foo</td>\n      <td>-1.195178</td>\n      <td>-0.151998</td>\n    </tr>\n    <tr>\n      <th>3</th>\n      <td>three</td>\n      <td>A</td>\n      <td>bar</td>\n      <td>0.166032</td>\n      <td>-0.491186</td>\n    </tr>\n    <tr>\n      <th>4</th>\n      <td>one</td>\n      <td>B</td>\n      <td>bar</td>\n      <td>-0.326275</td>\n      <td>1.339558</td>\n    </tr>\n    <tr>\n      <th>5</th>\n      <td>one</td>\n      <td>C</td>\n      <td>bar</td>\n      <td>-0.706879</td>\n      <td>-0.040288</td>\n    </tr>\n    <tr>\n      <th>6</th>\n      <td>two</td>\n      <td>A</td>\n      <td>foo</td>\n      <td>-0.355317</td>\n      <td>0.149001</td>\n    </tr>\n    <tr>\n      <th>7</th>\n      <td>three</td>\n      <td>B</td>\n      <td>foo</td>\n      <td>1.078953</td>\n      <td>2.424316</td>\n    </tr>\n    <tr>\n      <th>8</th>\n      <td>one</td>\n      <td>C</td>\n      <td>foo</td>\n      <td>0.301134</td>\n      <td>-0.356991</td>\n    </tr>\n    <tr>\n      <th>9</th>\n      <td>one</td>\n      <td>A</td>\n      <td>bar</td>\n      <td>0.118463</td>\n      <td>0.546092</td>\n    </tr>\n    <tr>\n      <th>10</th>\n      <td>two</td>\n      <td>B</td>\n      <td>bar</td>\n      <td>-0.192469</td>\n      <td>0.680820</td>\n    </tr>\n    <tr>\n      <th>11</th>\n      <td>three</td>\n      <td>C</td>\n      <td>bar</td>\n      <td>-2.255886</td>\n      <td>-0.295540</td>\n    </tr>\n  </tbody>\n</table>\n</div>"
     },
     "metadata": {},
     "execution_count": 58
    }
   ],
   "source": [
    "df = pd.DataFrame(\n",
    "        {\n",
    "            \"A\": [\"one\", \"one\", \"two\", \"three\"] * 3,\n",
    "            \"B\": [\"A\", \"B\", \"C\"] * 4,\n",
    "            \"C\": [\"foo\", \"foo\", \"foo\", \"bar\", \"bar\", \"bar\"] * 2,\n",
    "            \"D\": np.random.randn(12),\n",
    "            \"E\": np.random.randn(12),\n",
    "        }\n",
    "    )\n",
    "df"
   ]
  },
  {
   "cell_type": "code",
   "execution_count": 59,
   "metadata": {},
   "outputs": [
    {
     "output_type": "execute_result",
     "data": {
      "text/plain": [
       "C             bar       foo\n",
       "A     B                    \n",
       "one   A  0.118463  0.868173\n",
       "      B -0.326275 -0.399962\n",
       "      C -0.706879  0.301134\n",
       "three A  0.166032       NaN\n",
       "      B       NaN  1.078953\n",
       "      C -2.255886       NaN\n",
       "two   A       NaN -0.355317\n",
       "      B -0.192469       NaN\n",
       "      C       NaN -1.195178"
      ],
      "text/html": "<div>\n<style scoped>\n    .dataframe tbody tr th:only-of-type {\n        vertical-align: middle;\n    }\n\n    .dataframe tbody tr th {\n        vertical-align: top;\n    }\n\n    .dataframe thead th {\n        text-align: right;\n    }\n</style>\n<table border=\"1\" class=\"dataframe\">\n  <thead>\n    <tr style=\"text-align: right;\">\n      <th></th>\n      <th>C</th>\n      <th>bar</th>\n      <th>foo</th>\n    </tr>\n    <tr>\n      <th>A</th>\n      <th>B</th>\n      <th></th>\n      <th></th>\n    </tr>\n  </thead>\n  <tbody>\n    <tr>\n      <th rowspan=\"3\" valign=\"top\">one</th>\n      <th>A</th>\n      <td>0.118463</td>\n      <td>0.868173</td>\n    </tr>\n    <tr>\n      <th>B</th>\n      <td>-0.326275</td>\n      <td>-0.399962</td>\n    </tr>\n    <tr>\n      <th>C</th>\n      <td>-0.706879</td>\n      <td>0.301134</td>\n    </tr>\n    <tr>\n      <th rowspan=\"3\" valign=\"top\">three</th>\n      <th>A</th>\n      <td>0.166032</td>\n      <td>NaN</td>\n    </tr>\n    <tr>\n      <th>B</th>\n      <td>NaN</td>\n      <td>1.078953</td>\n    </tr>\n    <tr>\n      <th>C</th>\n      <td>-2.255886</td>\n      <td>NaN</td>\n    </tr>\n    <tr>\n      <th rowspan=\"3\" valign=\"top\">two</th>\n      <th>A</th>\n      <td>NaN</td>\n      <td>-0.355317</td>\n    </tr>\n    <tr>\n      <th>B</th>\n      <td>-0.192469</td>\n      <td>NaN</td>\n    </tr>\n    <tr>\n      <th>C</th>\n      <td>NaN</td>\n      <td>-1.195178</td>\n    </tr>\n  </tbody>\n</table>\n</div>"
     },
     "metadata": {},
     "execution_count": 59
    }
   ],
   "source": [
    "pd.pivot_table(df, values = 'D', index = ['A','B'], columns = ['C'])"
   ]
  },
  {
   "source": [
    "---\n",
    "#### Time Series\n",
    "---\n",
    "\n",
    "Pandas has powerful and efficient functionality for resampling  during frequency conversion, like converting sec data into 5min data"
   ],
   "cell_type": "markdown",
   "metadata": {}
  },
  {
   "cell_type": "code",
   "execution_count": 60,
   "metadata": {},
   "outputs": [
    {
     "output_type": "execute_result",
     "data": {
      "text/plain": [
       "2020-01-01    26667\n",
       "Freq: 5T, dtype: int32"
      ]
     },
     "metadata": {},
     "execution_count": 60
    }
   ],
   "source": [
    "rng = pd.date_range('1/1/2020', periods = 100, freq = 'S')\n",
    "ts = pd.Series(np.random.randint(0,500,len(rng)), index = rng)\n",
    "ts.resample('5Min').sum()"
   ]
  },
  {
   "cell_type": "code",
   "execution_count": 61,
   "metadata": {},
   "outputs": [
    {
     "output_type": "execute_result",
     "data": {
      "text/plain": [
       "2020-03-06   -0.895780\n",
       "2020-03-07    0.257814\n",
       "2020-03-08   -1.456436\n",
       "2020-03-09   -1.419469\n",
       "2020-03-10   -0.347814\n",
       "Freq: D, dtype: float64"
      ]
     },
     "metadata": {},
     "execution_count": 61
    }
   ],
   "source": [
    "rng = pd.date_range(\"3/6/2020 00:00\", periods = 5, freq = \"D\")\n",
    "ts = pd.Series(np.random.randn(len(rng)), rng)\n",
    "ts"
   ]
  },
  {
   "cell_type": "code",
   "execution_count": 62,
   "metadata": {},
   "outputs": [
    {
     "output_type": "execute_result",
     "data": {
      "text/plain": [
       "2020-03-06 00:00:00+00:00   -0.895780\n",
       "2020-03-07 00:00:00+00:00    0.257814\n",
       "2020-03-08 00:00:00+00:00   -1.456436\n",
       "2020-03-09 00:00:00+00:00   -1.419469\n",
       "2020-03-10 00:00:00+00:00   -0.347814\n",
       "Freq: D, dtype: float64"
      ]
     },
     "metadata": {},
     "execution_count": 62
    }
   ],
   "source": [
    "ts_utc = ts.tz_localize('UTC')\n",
    "ts_utc"
   ]
  },
  {
   "source": [
    "Converting between time span representations:"
   ],
   "cell_type": "markdown",
   "metadata": {}
  },
  {
   "cell_type": "code",
   "execution_count": 63,
   "metadata": {},
   "outputs": [
    {
     "output_type": "execute_result",
     "data": {
      "text/plain": [
       "2020-03-06   -0.895780\n",
       "2020-03-07    0.257814\n",
       "2020-03-08   -1.456436\n",
       "2020-03-09   -1.419469\n",
       "2020-03-10   -0.347814\n",
       "Freq: D, dtype: float64"
      ]
     },
     "metadata": {},
     "execution_count": 63
    }
   ],
   "source": [
    "ps = ts.to_period()\n",
    "ps"
   ]
  },
  {
   "cell_type": "code",
   "execution_count": 64,
   "metadata": {},
   "outputs": [
    {
     "output_type": "execute_result",
     "data": {
      "text/plain": [
       "2020-03-06   -0.895780\n",
       "2020-03-07    0.257814\n",
       "2020-03-08   -1.456436\n",
       "2020-03-09   -1.419469\n",
       "2020-03-10   -0.347814\n",
       "Freq: D, dtype: float64"
      ]
     },
     "metadata": {},
     "execution_count": 64
    }
   ],
   "source": [
    "ps.to_timestamp()"
   ]
  },
  {
   "source": [
    "Convert a quarterly frequency with year ending in November to 9am of the end of the month following the quarter end"
   ],
   "cell_type": "markdown",
   "metadata": {}
  },
  {
   "cell_type": "code",
   "execution_count": 65,
   "metadata": {},
   "outputs": [
    {
     "output_type": "execute_result",
     "data": {
      "text/plain": [
       "2000-03-01 09:00    1.021150\n",
       "2000-06-01 09:00   -0.214123\n",
       "2000-09-01 09:00    1.180847\n",
       "2000-12-01 09:00    0.041109\n",
       "2001-03-01 09:00   -1.576260\n",
       "Freq: H, dtype: float64"
      ]
     },
     "metadata": {},
     "execution_count": 65
    }
   ],
   "source": [
    "prng = pd.period_range(\"2000Q1\", \"2020Q4\", freq=\"Q-NOV\")\n",
    "ts = pd.Series(np.random.randn(len(prng)), prng)\n",
    "ts.index = (prng.asfreq(\"M\", \"e\") + 1).asfreq(\"H\", \"s\") + 9\n",
    "ts.head()"
   ]
  },
  {
   "source": [
    "---\n",
    "#### Catagoricals\n",
    "---"
   ],
   "cell_type": "markdown",
   "metadata": {}
  },
  {
   "cell_type": "code",
   "execution_count": 66,
   "metadata": {},
   "outputs": [
    {
     "output_type": "execute_result",
     "data": {
      "text/plain": [
       "0    A\n",
       "1    B\n",
       "2    A\n",
       "3    C\n",
       "4    C\n",
       "5    D\n",
       "Name: grade, dtype: category\n",
       "Categories (4, object): ['A', 'B', 'C', 'D']"
      ]
     },
     "metadata": {},
     "execution_count": 66
    }
   ],
   "source": [
    "df = pd.DataFrame({\"id\": [1, 2, 3, 4, 5, 6], \"raw_grade\": [\"A\", \"B\", \"A\", \"C\", \"C\", \"D\"]})\n",
    "df[\"grade\"] = df[\"raw_grade\"].astype(\"category\")\n",
    "df['grade']"
   ]
  },
  {
   "source": [
    "---\n",
    "#### Getting / Saving Data\n",
    "---"
   ],
   "cell_type": "markdown",
   "metadata": {}
  },
  {
   "source": [
    "CSV / Excel"
   ],
   "cell_type": "markdown",
   "metadata": {}
  },
  {
   "cell_type": "code",
   "execution_count": 67,
   "metadata": {},
   "outputs": [
    {
     "output_type": "execute_result",
     "data": {
      "text/plain": [
       "   Unnamed: 0  id raw_grade grade\n",
       "0           0   1         A     A\n",
       "1           1   2         B     B\n",
       "2           2   3         A     A\n",
       "3           3   4         C     C\n",
       "4           4   5         C     C\n",
       "5           5   6         D     D"
      ],
      "text/html": "<div>\n<style scoped>\n    .dataframe tbody tr th:only-of-type {\n        vertical-align: middle;\n    }\n\n    .dataframe tbody tr th {\n        vertical-align: top;\n    }\n\n    .dataframe thead th {\n        text-align: right;\n    }\n</style>\n<table border=\"1\" class=\"dataframe\">\n  <thead>\n    <tr style=\"text-align: right;\">\n      <th></th>\n      <th>Unnamed: 0</th>\n      <th>id</th>\n      <th>raw_grade</th>\n      <th>grade</th>\n    </tr>\n  </thead>\n  <tbody>\n    <tr>\n      <th>0</th>\n      <td>0</td>\n      <td>1</td>\n      <td>A</td>\n      <td>A</td>\n    </tr>\n    <tr>\n      <th>1</th>\n      <td>1</td>\n      <td>2</td>\n      <td>B</td>\n      <td>B</td>\n    </tr>\n    <tr>\n      <th>2</th>\n      <td>2</td>\n      <td>3</td>\n      <td>A</td>\n      <td>A</td>\n    </tr>\n    <tr>\n      <th>3</th>\n      <td>3</td>\n      <td>4</td>\n      <td>C</td>\n      <td>C</td>\n    </tr>\n    <tr>\n      <th>4</th>\n      <td>4</td>\n      <td>5</td>\n      <td>C</td>\n      <td>C</td>\n    </tr>\n    <tr>\n      <th>5</th>\n      <td>5</td>\n      <td>6</td>\n      <td>D</td>\n      <td>D</td>\n    </tr>\n  </tbody>\n</table>\n</div>"
     },
     "metadata": {},
     "execution_count": 67
    }
   ],
   "source": [
    "df.to_csv('FF.csv')\n",
    "pd.read_csv('FF.csv')"
   ]
  },
  {
   "cell_type": "code",
   "execution_count": 68,
   "metadata": {},
   "outputs": [
    {
     "output_type": "execute_result",
     "data": {
      "text/plain": [
       "   Unnamed: 0  id raw_grade grade\n",
       "0           0   1         A     A\n",
       "1           1   2         B     B\n",
       "2           2   3         A     A\n",
       "3           3   4         C     C\n",
       "4           4   5         C     C\n",
       "5           5   6         D     D"
      ],
      "text/html": "<div>\n<style scoped>\n    .dataframe tbody tr th:only-of-type {\n        vertical-align: middle;\n    }\n\n    .dataframe tbody tr th {\n        vertical-align: top;\n    }\n\n    .dataframe thead th {\n        text-align: right;\n    }\n</style>\n<table border=\"1\" class=\"dataframe\">\n  <thead>\n    <tr style=\"text-align: right;\">\n      <th></th>\n      <th>Unnamed: 0</th>\n      <th>id</th>\n      <th>raw_grade</th>\n      <th>grade</th>\n    </tr>\n  </thead>\n  <tbody>\n    <tr>\n      <th>0</th>\n      <td>0</td>\n      <td>1</td>\n      <td>A</td>\n      <td>A</td>\n    </tr>\n    <tr>\n      <th>1</th>\n      <td>1</td>\n      <td>2</td>\n      <td>B</td>\n      <td>B</td>\n    </tr>\n    <tr>\n      <th>2</th>\n      <td>2</td>\n      <td>3</td>\n      <td>A</td>\n      <td>A</td>\n    </tr>\n    <tr>\n      <th>3</th>\n      <td>3</td>\n      <td>4</td>\n      <td>C</td>\n      <td>C</td>\n    </tr>\n    <tr>\n      <th>4</th>\n      <td>4</td>\n      <td>5</td>\n      <td>C</td>\n      <td>C</td>\n    </tr>\n    <tr>\n      <th>5</th>\n      <td>5</td>\n      <td>6</td>\n      <td>D</td>\n      <td>D</td>\n    </tr>\n  </tbody>\n</table>\n</div>"
     },
     "metadata": {},
     "execution_count": 68
    }
   ],
   "source": [
    "df.to_excel('FF.xlsx')\n",
    "pd.read_excel('FF.xlsx')"
   ]
  }
 ]
}